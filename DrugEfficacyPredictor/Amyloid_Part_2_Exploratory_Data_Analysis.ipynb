{
 "cells": [
  {
   "cell_type": "markdown",
   "metadata": {
    "colab_type": "text",
    "id": "l0Y7_lgN4jzM"
   },
   "source": [
    "# **Computational Drug Discovery [Part 2] Exploratory Data Analysis**\n",
    "\n",
    "Nickolas Winters\n",
    "\n",
    "**Part 2:** Descriptor Calculation and Exploratory Data Analysis was performed."
   ]
  },
  {
   "cell_type": "markdown",
   "metadata": {
    "colab_type": "text",
    "id": "QmxXXFa4wTNG"
   },
   "source": [
    "## **Load bioactivity data**"
   ]
  },
  {
   "cell_type": "code",
   "execution_count": 1,
   "metadata": {
    "colab": {},
    "colab_type": "code",
    "id": "Fpu5C7HlwV9s"
   },
   "outputs": [],
   "source": [
    "import pandas as pd"
   ]
  },
  {
   "cell_type": "code",
   "execution_count": 2,
   "metadata": {
    "colab": {
     "base_uri": "https://localhost:8080/",
     "height": 419
    },
    "colab_type": "code",
    "id": "GCcE8J5XwjtB",
    "outputId": "40a10f00-3d5f-4835-fdf8-2cb5acd8683c"
   },
   "outputs": [
    {
     "data": {
      "text/html": [
       "<div>\n",
       "<style scoped>\n",
       "    .dataframe tbody tr th:only-of-type {\n",
       "        vertical-align: middle;\n",
       "    }\n",
       "\n",
       "    .dataframe tbody tr th {\n",
       "        vertical-align: top;\n",
       "    }\n",
       "\n",
       "    .dataframe thead th {\n",
       "        text-align: right;\n",
       "    }\n",
       "</style>\n",
       "<table border=\"1\" class=\"dataframe\">\n",
       "  <thead>\n",
       "    <tr style=\"text-align: right;\">\n",
       "      <th></th>\n",
       "      <th>molecule_chembl_id</th>\n",
       "      <th>canonical_smiles</th>\n",
       "      <th>standard_value</th>\n",
       "      <th>class</th>\n",
       "    </tr>\n",
       "  </thead>\n",
       "  <tbody>\n",
       "    <tr>\n",
       "      <th>0</th>\n",
       "      <td>CHEMBL311039</td>\n",
       "      <td>CC12CCC(C1)C(C)(C)C2NS(=O)(=O)c1ccc(F)cc1</td>\n",
       "      <td>5000.0</td>\n",
       "      <td>intermediate</td>\n",
       "    </tr>\n",
       "    <tr>\n",
       "      <th>1</th>\n",
       "      <td>CHEMBL450926</td>\n",
       "      <td>CC12CC[C@@H](C1)C(C)(C)[C@@H]2NS(=O)(=O)c1cccs1</td>\n",
       "      <td>2700.0</td>\n",
       "      <td>intermediate</td>\n",
       "    </tr>\n",
       "    <tr>\n",
       "      <th>2</th>\n",
       "      <td>CHEMBL310242</td>\n",
       "      <td>CC12CC[C@@H](C1)C(C)(C)[C@@H]2NS(=O)(=O)c1ccc(...</td>\n",
       "      <td>1800.0</td>\n",
       "      <td>intermediate</td>\n",
       "    </tr>\n",
       "    <tr>\n",
       "      <th>3</th>\n",
       "      <td>CHEMBL74874</td>\n",
       "      <td>CC12CC[C@@H](C1)C(C)(C)[C@@H]2NS(=O)(=O)c1ccc(...</td>\n",
       "      <td>11000.0</td>\n",
       "      <td>inactive</td>\n",
       "    </tr>\n",
       "    <tr>\n",
       "      <th>4</th>\n",
       "      <td>CHEMBL75183</td>\n",
       "      <td>CC12CC[C@@H](C1)C(C)(C)[C@@H]2NS(=O)(=O)c1ccc(...</td>\n",
       "      <td>10000.0</td>\n",
       "      <td>inactive</td>\n",
       "    </tr>\n",
       "    <tr>\n",
       "      <th>...</th>\n",
       "      <td>...</td>\n",
       "      <td>...</td>\n",
       "      <td>...</td>\n",
       "      <td>...</td>\n",
       "    </tr>\n",
       "    <tr>\n",
       "      <th>1183</th>\n",
       "      <td>CHEMBL5274298</td>\n",
       "      <td>COC(=O)c1cc(O)cc(OC)c1C(=O)c1c(O)cc(CO[C@H]2O[...</td>\n",
       "      <td>1030.0</td>\n",
       "      <td>intermediate</td>\n",
       "    </tr>\n",
       "    <tr>\n",
       "      <th>1184</th>\n",
       "      <td>CHEMBL5283067</td>\n",
       "      <td>COC(=O)c1c(Sc2c(O)cc(OC)c(C(=O)c3c(O)cc(C)cc3O...</td>\n",
       "      <td>990.0</td>\n",
       "      <td>active</td>\n",
       "    </tr>\n",
       "    <tr>\n",
       "      <th>1185</th>\n",
       "      <td>CHEMBL5273520</td>\n",
       "      <td>COC(=O)c1c(O)cc(C)c(Sc2c(O)cc(OC)c(Oc3c(O)cc(C...</td>\n",
       "      <td>100.0</td>\n",
       "      <td>active</td>\n",
       "    </tr>\n",
       "    <tr>\n",
       "      <th>1186</th>\n",
       "      <td>CHEMBL5282081</td>\n",
       "      <td>COC(=O)c1c(O)cc(C)cc1C(=O)c1cc(O)cc2oc3cc4c(c(...</td>\n",
       "      <td>1560.0</td>\n",
       "      <td>intermediate</td>\n",
       "    </tr>\n",
       "    <tr>\n",
       "      <th>1187</th>\n",
       "      <td>CHEMBL5274654</td>\n",
       "      <td>Cc1cc(O)c(C(=O)c2c(O)cc3c(c2O)C(=O)c2c(O)cc(C)...</td>\n",
       "      <td>180.0</td>\n",
       "      <td>active</td>\n",
       "    </tr>\n",
       "  </tbody>\n",
       "</table>\n",
       "<p>1188 rows × 4 columns</p>\n",
       "</div>"
      ],
      "text/plain": [
       "     molecule_chembl_id                                   canonical_smiles  \\\n",
       "0          CHEMBL311039          CC12CCC(C1)C(C)(C)C2NS(=O)(=O)c1ccc(F)cc1   \n",
       "1          CHEMBL450926    CC12CC[C@@H](C1)C(C)(C)[C@@H]2NS(=O)(=O)c1cccs1   \n",
       "2          CHEMBL310242  CC12CC[C@@H](C1)C(C)(C)[C@@H]2NS(=O)(=O)c1ccc(...   \n",
       "3           CHEMBL74874  CC12CC[C@@H](C1)C(C)(C)[C@@H]2NS(=O)(=O)c1ccc(...   \n",
       "4           CHEMBL75183  CC12CC[C@@H](C1)C(C)(C)[C@@H]2NS(=O)(=O)c1ccc(...   \n",
       "...                 ...                                                ...   \n",
       "1183      CHEMBL5274298  COC(=O)c1cc(O)cc(OC)c1C(=O)c1c(O)cc(CO[C@H]2O[...   \n",
       "1184      CHEMBL5283067  COC(=O)c1c(Sc2c(O)cc(OC)c(C(=O)c3c(O)cc(C)cc3O...   \n",
       "1185      CHEMBL5273520  COC(=O)c1c(O)cc(C)c(Sc2c(O)cc(OC)c(Oc3c(O)cc(C...   \n",
       "1186      CHEMBL5282081  COC(=O)c1c(O)cc(C)cc1C(=O)c1cc(O)cc2oc3cc4c(c(...   \n",
       "1187      CHEMBL5274654  Cc1cc(O)c(C(=O)c2c(O)cc3c(c2O)C(=O)c2c(O)cc(C)...   \n",
       "\n",
       "      standard_value         class  \n",
       "0             5000.0  intermediate  \n",
       "1             2700.0  intermediate  \n",
       "2             1800.0  intermediate  \n",
       "3            11000.0      inactive  \n",
       "4            10000.0      inactive  \n",
       "...              ...           ...  \n",
       "1183          1030.0  intermediate  \n",
       "1184           990.0        active  \n",
       "1185           100.0        active  \n",
       "1186          1560.0  intermediate  \n",
       "1187           180.0        active  \n",
       "\n",
       "[1188 rows x 4 columns]"
      ]
     },
     "execution_count": 2,
     "metadata": {},
     "output_type": "execute_result"
    }
   ],
   "source": [
    "df = pd.read_csv('amyloid_03_bioactivity_data_classed.csv')\n",
    "df"
   ]
  },
  {
   "cell_type": "code",
   "execution_count": 3,
   "metadata": {
    "colab": {},
    "colab_type": "code",
    "id": "7AMm19NW0bJR"
   },
   "outputs": [],
   "source": [
    "df_no_smiles = df.drop(columns='canonical_smiles')"
   ]
  },
  {
   "cell_type": "code",
   "execution_count": 4,
   "metadata": {
    "colab": {},
    "colab_type": "code",
    "id": "aymiQsfdr5sY"
   },
   "outputs": [],
   "source": [
    "smiles = []\n",
    "\n",
    "for i in df.canonical_smiles.tolist():\n",
    "  cpd = str(i).split('.')\n",
    "  cpd_longest = max(cpd, key = len)\n",
    "  smiles.append(cpd_longest)\n",
    "\n",
    "smiles = pd.Series(smiles, name = 'canonical_smiles')"
   ]
  },
  {
   "cell_type": "code",
   "execution_count": 5,
   "metadata": {
    "colab": {
     "base_uri": "https://localhost:8080/",
     "height": 419
    },
    "colab_type": "code",
    "id": "l7a8qW_U85ZK",
    "outputId": "9e073a51-20d4-489c-b1f7-6a44d140c22b"
   },
   "outputs": [
    {
     "data": {
      "text/html": [
       "<div>\n",
       "<style scoped>\n",
       "    .dataframe tbody tr th:only-of-type {\n",
       "        vertical-align: middle;\n",
       "    }\n",
       "\n",
       "    .dataframe tbody tr th {\n",
       "        vertical-align: top;\n",
       "    }\n",
       "\n",
       "    .dataframe thead th {\n",
       "        text-align: right;\n",
       "    }\n",
       "</style>\n",
       "<table border=\"1\" class=\"dataframe\">\n",
       "  <thead>\n",
       "    <tr style=\"text-align: right;\">\n",
       "      <th></th>\n",
       "      <th>molecule_chembl_id</th>\n",
       "      <th>standard_value</th>\n",
       "      <th>class</th>\n",
       "      <th>canonical_smiles</th>\n",
       "    </tr>\n",
       "  </thead>\n",
       "  <tbody>\n",
       "    <tr>\n",
       "      <th>0</th>\n",
       "      <td>CHEMBL311039</td>\n",
       "      <td>5000.0</td>\n",
       "      <td>intermediate</td>\n",
       "      <td>CC12CCC(C1)C(C)(C)C2NS(=O)(=O)c1ccc(F)cc1</td>\n",
       "    </tr>\n",
       "    <tr>\n",
       "      <th>1</th>\n",
       "      <td>CHEMBL450926</td>\n",
       "      <td>2700.0</td>\n",
       "      <td>intermediate</td>\n",
       "      <td>CC12CC[C@@H](C1)C(C)(C)[C@@H]2NS(=O)(=O)c1cccs1</td>\n",
       "    </tr>\n",
       "    <tr>\n",
       "      <th>2</th>\n",
       "      <td>CHEMBL310242</td>\n",
       "      <td>1800.0</td>\n",
       "      <td>intermediate</td>\n",
       "      <td>CC12CC[C@@H](C1)C(C)(C)[C@@H]2NS(=O)(=O)c1ccc(...</td>\n",
       "    </tr>\n",
       "    <tr>\n",
       "      <th>3</th>\n",
       "      <td>CHEMBL74874</td>\n",
       "      <td>11000.0</td>\n",
       "      <td>inactive</td>\n",
       "      <td>CC12CC[C@@H](C1)C(C)(C)[C@@H]2NS(=O)(=O)c1ccc(...</td>\n",
       "    </tr>\n",
       "    <tr>\n",
       "      <th>4</th>\n",
       "      <td>CHEMBL75183</td>\n",
       "      <td>10000.0</td>\n",
       "      <td>inactive</td>\n",
       "      <td>CC12CC[C@@H](C1)C(C)(C)[C@@H]2NS(=O)(=O)c1ccc(...</td>\n",
       "    </tr>\n",
       "    <tr>\n",
       "      <th>...</th>\n",
       "      <td>...</td>\n",
       "      <td>...</td>\n",
       "      <td>...</td>\n",
       "      <td>...</td>\n",
       "    </tr>\n",
       "    <tr>\n",
       "      <th>1183</th>\n",
       "      <td>CHEMBL5274298</td>\n",
       "      <td>1030.0</td>\n",
       "      <td>intermediate</td>\n",
       "      <td>COC(=O)c1cc(O)cc(OC)c1C(=O)c1c(O)cc(CO[C@H]2O[...</td>\n",
       "    </tr>\n",
       "    <tr>\n",
       "      <th>1184</th>\n",
       "      <td>CHEMBL5283067</td>\n",
       "      <td>990.0</td>\n",
       "      <td>active</td>\n",
       "      <td>COC(=O)c1c(Sc2c(O)cc(OC)c(C(=O)c3c(O)cc(C)cc3O...</td>\n",
       "    </tr>\n",
       "    <tr>\n",
       "      <th>1185</th>\n",
       "      <td>CHEMBL5273520</td>\n",
       "      <td>100.0</td>\n",
       "      <td>active</td>\n",
       "      <td>COC(=O)c1c(O)cc(C)c(Sc2c(O)cc(OC)c(Oc3c(O)cc(C...</td>\n",
       "    </tr>\n",
       "    <tr>\n",
       "      <th>1186</th>\n",
       "      <td>CHEMBL5282081</td>\n",
       "      <td>1560.0</td>\n",
       "      <td>intermediate</td>\n",
       "      <td>COC(=O)c1c(O)cc(C)cc1C(=O)c1cc(O)cc2oc3cc4c(c(...</td>\n",
       "    </tr>\n",
       "    <tr>\n",
       "      <th>1187</th>\n",
       "      <td>CHEMBL5274654</td>\n",
       "      <td>180.0</td>\n",
       "      <td>active</td>\n",
       "      <td>Cc1cc(O)c(C(=O)c2c(O)cc3c(c2O)C(=O)c2c(O)cc(C)...</td>\n",
       "    </tr>\n",
       "  </tbody>\n",
       "</table>\n",
       "<p>1188 rows × 4 columns</p>\n",
       "</div>"
      ],
      "text/plain": [
       "     molecule_chembl_id  standard_value         class  \\\n",
       "0          CHEMBL311039          5000.0  intermediate   \n",
       "1          CHEMBL450926          2700.0  intermediate   \n",
       "2          CHEMBL310242          1800.0  intermediate   \n",
       "3           CHEMBL74874         11000.0      inactive   \n",
       "4           CHEMBL75183         10000.0      inactive   \n",
       "...                 ...             ...           ...   \n",
       "1183      CHEMBL5274298          1030.0  intermediate   \n",
       "1184      CHEMBL5283067           990.0        active   \n",
       "1185      CHEMBL5273520           100.0        active   \n",
       "1186      CHEMBL5282081          1560.0  intermediate   \n",
       "1187      CHEMBL5274654           180.0        active   \n",
       "\n",
       "                                       canonical_smiles  \n",
       "0             CC12CCC(C1)C(C)(C)C2NS(=O)(=O)c1ccc(F)cc1  \n",
       "1       CC12CC[C@@H](C1)C(C)(C)[C@@H]2NS(=O)(=O)c1cccs1  \n",
       "2     CC12CC[C@@H](C1)C(C)(C)[C@@H]2NS(=O)(=O)c1ccc(...  \n",
       "3     CC12CC[C@@H](C1)C(C)(C)[C@@H]2NS(=O)(=O)c1ccc(...  \n",
       "4     CC12CC[C@@H](C1)C(C)(C)[C@@H]2NS(=O)(=O)c1ccc(...  \n",
       "...                                                 ...  \n",
       "1183  COC(=O)c1cc(O)cc(OC)c1C(=O)c1c(O)cc(CO[C@H]2O[...  \n",
       "1184  COC(=O)c1c(Sc2c(O)cc(OC)c(C(=O)c3c(O)cc(C)cc3O...  \n",
       "1185  COC(=O)c1c(O)cc(C)c(Sc2c(O)cc(OC)c(Oc3c(O)cc(C...  \n",
       "1186  COC(=O)c1c(O)cc(C)cc1C(=O)c1cc(O)cc2oc3cc4c(c(...  \n",
       "1187  Cc1cc(O)c(C(=O)c2c(O)cc3c(c2O)C(=O)c2c(O)cc(C)...  \n",
       "\n",
       "[1188 rows x 4 columns]"
      ]
     },
     "execution_count": 5,
     "metadata": {},
     "output_type": "execute_result"
    }
   ],
   "source": [
    "df_clean_smiles = pd.concat([df_no_smiles,smiles], axis=1)\n",
    "df_clean_smiles"
   ]
  },
  {
   "cell_type": "markdown",
   "metadata": {
    "colab_type": "text",
    "id": "YzN_S4Quro5S"
   },
   "source": [
    "## **Calculate Lipinski descriptors**\n",
    "Christopher Lipinski, a scientist at Pfizer, came up with a set of rule-of-thumb for evaluating the **druglikeness** of compounds. Such druglikeness is based on the Absorption, Distribution, Metabolism and Excretion (ADME) that is also known as the pharmacokinetic profile. Lipinski analyzed all orally active FDA-approved drugs in the formulation of what is to be known as the **Rule-of-Five** or **Lipinski's Rule**.\n",
    "\n",
    "The Lipinski's Rule stated the following:\n",
    "* Molecular weight < 500 Dalton\n",
    "* Octanol-water partition coefficient (LogP) < 5\n",
    "* Hydrogen bond donors < 5\n",
    "* Hydrogen bond acceptors < 10 "
   ]
  },
  {
   "cell_type": "markdown",
   "metadata": {
    "colab_type": "text",
    "id": "9qn_eQcnxY7C"
   },
   "source": [
    "### **Import libraries**"
   ]
  },
  {
   "cell_type": "code",
   "execution_count": 6,
   "metadata": {
    "colab": {},
    "colab_type": "code",
    "id": "CgBjIdT-rnRU"
   },
   "outputs": [],
   "source": [
    "import numpy as np\n",
    "from rdkit import Chem\n",
    "from rdkit.Chem import Descriptors, Lipinski"
   ]
  },
  {
   "cell_type": "markdown",
   "metadata": {
    "colab_type": "text",
    "id": "JsgTV-ByxdMa"
   },
   "source": [
    "### **Calculate descriptors**"
   ]
  },
  {
   "cell_type": "code",
   "execution_count": 7,
   "metadata": {
    "colab": {},
    "colab_type": "code",
    "id": "bCXEY7a9ugO_"
   },
   "outputs": [],
   "source": [
    "# Inspired by: https://codeocean.com/explore/capsules?query=tag:data-curation\n",
    "\n",
    "def lipinski(smiles, verbose=False):\n",
    "\n",
    "    moldata= []\n",
    "    for elem in smiles:\n",
    "        mol=Chem.MolFromSmiles(elem) \n",
    "        moldata.append(mol)\n",
    "       \n",
    "    baseData= np.arange(1,1)\n",
    "    i=0  \n",
    "    for mol in moldata:        \n",
    "       \n",
    "        desc_MolWt = Descriptors.MolWt(mol)\n",
    "        desc_MolLogP = Descriptors.MolLogP(mol)\n",
    "        desc_NumHDonors = Lipinski.NumHDonors(mol)\n",
    "        desc_NumHAcceptors = Lipinski.NumHAcceptors(mol)\n",
    "           \n",
    "        row = np.array([desc_MolWt,\n",
    "                        desc_MolLogP,\n",
    "                        desc_NumHDonors,\n",
    "                        desc_NumHAcceptors])   \n",
    "    \n",
    "        if(i==0):\n",
    "            baseData=row\n",
    "        else:\n",
    "            baseData=np.vstack([baseData, row])\n",
    "        i=i+1      \n",
    "    \n",
    "    columnNames=[\"MW\",\"LogP\",\"NumHDonors\",\"NumHAcceptors\"]   \n",
    "    descriptors = pd.DataFrame(data=baseData,columns=columnNames)\n",
    "    \n",
    "    return descriptors"
   ]
  },
  {
   "cell_type": "code",
   "execution_count": 8,
   "metadata": {
    "colab": {
     "base_uri": "https://localhost:8080/",
     "height": 419
    },
    "colab_type": "code",
    "id": "ThFIFw8IukMY",
    "outputId": "574c050c-44f1-43be-bf6c-bf973d8d0675"
   },
   "outputs": [
    {
     "data": {
      "text/html": [
       "<div>\n",
       "<style scoped>\n",
       "    .dataframe tbody tr th:only-of-type {\n",
       "        vertical-align: middle;\n",
       "    }\n",
       "\n",
       "    .dataframe tbody tr th {\n",
       "        vertical-align: top;\n",
       "    }\n",
       "\n",
       "    .dataframe thead th {\n",
       "        text-align: right;\n",
       "    }\n",
       "</style>\n",
       "<table border=\"1\" class=\"dataframe\">\n",
       "  <thead>\n",
       "    <tr style=\"text-align: right;\">\n",
       "      <th></th>\n",
       "      <th>MW</th>\n",
       "      <th>LogP</th>\n",
       "      <th>NumHDonors</th>\n",
       "      <th>NumHAcceptors</th>\n",
       "    </tr>\n",
       "  </thead>\n",
       "  <tbody>\n",
       "    <tr>\n",
       "      <th>0</th>\n",
       "      <td>311.422</td>\n",
       "      <td>3.31880</td>\n",
       "      <td>1.0</td>\n",
       "      <td>2.0</td>\n",
       "    </tr>\n",
       "    <tr>\n",
       "      <th>1</th>\n",
       "      <td>299.461</td>\n",
       "      <td>3.24120</td>\n",
       "      <td>1.0</td>\n",
       "      <td>3.0</td>\n",
       "    </tr>\n",
       "    <tr>\n",
       "      <th>2</th>\n",
       "      <td>311.422</td>\n",
       "      <td>3.31880</td>\n",
       "      <td>1.0</td>\n",
       "      <td>2.0</td>\n",
       "    </tr>\n",
       "    <tr>\n",
       "      <th>3</th>\n",
       "      <td>327.877</td>\n",
       "      <td>3.83310</td>\n",
       "      <td>1.0</td>\n",
       "      <td>2.0</td>\n",
       "    </tr>\n",
       "    <tr>\n",
       "      <th>4</th>\n",
       "      <td>372.328</td>\n",
       "      <td>3.94220</td>\n",
       "      <td>1.0</td>\n",
       "      <td>2.0</td>\n",
       "    </tr>\n",
       "    <tr>\n",
       "      <th>...</th>\n",
       "      <td>...</td>\n",
       "      <td>...</td>\n",
       "      <td>...</td>\n",
       "      <td>...</td>\n",
       "    </tr>\n",
       "    <tr>\n",
       "      <th>1183</th>\n",
       "      <td>510.448</td>\n",
       "      <td>-0.85390</td>\n",
       "      <td>7.0</td>\n",
       "      <td>13.0</td>\n",
       "    </tr>\n",
       "    <tr>\n",
       "      <th>1184</th>\n",
       "      <td>680.640</td>\n",
       "      <td>4.43222</td>\n",
       "      <td>6.0</td>\n",
       "      <td>15.0</td>\n",
       "    </tr>\n",
       "    <tr>\n",
       "      <th>1185</th>\n",
       "      <td>624.620</td>\n",
       "      <td>5.52076</td>\n",
       "      <td>7.0</td>\n",
       "      <td>13.0</td>\n",
       "    </tr>\n",
       "    <tr>\n",
       "      <th>1186</th>\n",
       "      <td>552.491</td>\n",
       "      <td>4.81824</td>\n",
       "      <td>4.0</td>\n",
       "      <td>10.0</td>\n",
       "    </tr>\n",
       "    <tr>\n",
       "      <th>1187</th>\n",
       "      <td>556.479</td>\n",
       "      <td>3.48004</td>\n",
       "      <td>7.0</td>\n",
       "      <td>11.0</td>\n",
       "    </tr>\n",
       "  </tbody>\n",
       "</table>\n",
       "<p>1188 rows × 4 columns</p>\n",
       "</div>"
      ],
      "text/plain": [
       "           MW     LogP  NumHDonors  NumHAcceptors\n",
       "0     311.422  3.31880         1.0            2.0\n",
       "1     299.461  3.24120         1.0            3.0\n",
       "2     311.422  3.31880         1.0            2.0\n",
       "3     327.877  3.83310         1.0            2.0\n",
       "4     372.328  3.94220         1.0            2.0\n",
       "...       ...      ...         ...            ...\n",
       "1183  510.448 -0.85390         7.0           13.0\n",
       "1184  680.640  4.43222         6.0           15.0\n",
       "1185  624.620  5.52076         7.0           13.0\n",
       "1186  552.491  4.81824         4.0           10.0\n",
       "1187  556.479  3.48004         7.0           11.0\n",
       "\n",
       "[1188 rows x 4 columns]"
      ]
     },
     "execution_count": 8,
     "metadata": {},
     "output_type": "execute_result"
    }
   ],
   "source": [
    "df_lipinski = lipinski(df_clean_smiles.canonical_smiles)\n",
    "df_lipinski"
   ]
  },
  {
   "cell_type": "markdown",
   "metadata": {
    "colab_type": "text",
    "id": "gUMlPfFrxicj"
   },
   "source": [
    "### **Combine DataFrames**\n",
    "\n",
    "Let's take a look at the 2 DataFrames that will be combined."
   ]
  },
  {
   "cell_type": "code",
   "execution_count": 9,
   "metadata": {
    "colab": {
     "base_uri": "https://localhost:8080/",
     "height": 419
    },
    "colab_type": "code",
    "id": "DaezyM5vwp9n",
    "outputId": "14dfe606-85e1-43ca-aaec-feb5b59f5404"
   },
   "outputs": [
    {
     "data": {
      "text/html": [
       "<div>\n",
       "<style scoped>\n",
       "    .dataframe tbody tr th:only-of-type {\n",
       "        vertical-align: middle;\n",
       "    }\n",
       "\n",
       "    .dataframe tbody tr th {\n",
       "        vertical-align: top;\n",
       "    }\n",
       "\n",
       "    .dataframe thead th {\n",
       "        text-align: right;\n",
       "    }\n",
       "</style>\n",
       "<table border=\"1\" class=\"dataframe\">\n",
       "  <thead>\n",
       "    <tr style=\"text-align: right;\">\n",
       "      <th></th>\n",
       "      <th>MW</th>\n",
       "      <th>LogP</th>\n",
       "      <th>NumHDonors</th>\n",
       "      <th>NumHAcceptors</th>\n",
       "    </tr>\n",
       "  </thead>\n",
       "  <tbody>\n",
       "    <tr>\n",
       "      <th>0</th>\n",
       "      <td>311.422</td>\n",
       "      <td>3.31880</td>\n",
       "      <td>1.0</td>\n",
       "      <td>2.0</td>\n",
       "    </tr>\n",
       "    <tr>\n",
       "      <th>1</th>\n",
       "      <td>299.461</td>\n",
       "      <td>3.24120</td>\n",
       "      <td>1.0</td>\n",
       "      <td>3.0</td>\n",
       "    </tr>\n",
       "    <tr>\n",
       "      <th>2</th>\n",
       "      <td>311.422</td>\n",
       "      <td>3.31880</td>\n",
       "      <td>1.0</td>\n",
       "      <td>2.0</td>\n",
       "    </tr>\n",
       "    <tr>\n",
       "      <th>3</th>\n",
       "      <td>327.877</td>\n",
       "      <td>3.83310</td>\n",
       "      <td>1.0</td>\n",
       "      <td>2.0</td>\n",
       "    </tr>\n",
       "    <tr>\n",
       "      <th>4</th>\n",
       "      <td>372.328</td>\n",
       "      <td>3.94220</td>\n",
       "      <td>1.0</td>\n",
       "      <td>2.0</td>\n",
       "    </tr>\n",
       "    <tr>\n",
       "      <th>...</th>\n",
       "      <td>...</td>\n",
       "      <td>...</td>\n",
       "      <td>...</td>\n",
       "      <td>...</td>\n",
       "    </tr>\n",
       "    <tr>\n",
       "      <th>1183</th>\n",
       "      <td>510.448</td>\n",
       "      <td>-0.85390</td>\n",
       "      <td>7.0</td>\n",
       "      <td>13.0</td>\n",
       "    </tr>\n",
       "    <tr>\n",
       "      <th>1184</th>\n",
       "      <td>680.640</td>\n",
       "      <td>4.43222</td>\n",
       "      <td>6.0</td>\n",
       "      <td>15.0</td>\n",
       "    </tr>\n",
       "    <tr>\n",
       "      <th>1185</th>\n",
       "      <td>624.620</td>\n",
       "      <td>5.52076</td>\n",
       "      <td>7.0</td>\n",
       "      <td>13.0</td>\n",
       "    </tr>\n",
       "    <tr>\n",
       "      <th>1186</th>\n",
       "      <td>552.491</td>\n",
       "      <td>4.81824</td>\n",
       "      <td>4.0</td>\n",
       "      <td>10.0</td>\n",
       "    </tr>\n",
       "    <tr>\n",
       "      <th>1187</th>\n",
       "      <td>556.479</td>\n",
       "      <td>3.48004</td>\n",
       "      <td>7.0</td>\n",
       "      <td>11.0</td>\n",
       "    </tr>\n",
       "  </tbody>\n",
       "</table>\n",
       "<p>1188 rows × 4 columns</p>\n",
       "</div>"
      ],
      "text/plain": [
       "           MW     LogP  NumHDonors  NumHAcceptors\n",
       "0     311.422  3.31880         1.0            2.0\n",
       "1     299.461  3.24120         1.0            3.0\n",
       "2     311.422  3.31880         1.0            2.0\n",
       "3     327.877  3.83310         1.0            2.0\n",
       "4     372.328  3.94220         1.0            2.0\n",
       "...       ...      ...         ...            ...\n",
       "1183  510.448 -0.85390         7.0           13.0\n",
       "1184  680.640  4.43222         6.0           15.0\n",
       "1185  624.620  5.52076         7.0           13.0\n",
       "1186  552.491  4.81824         4.0           10.0\n",
       "1187  556.479  3.48004         7.0           11.0\n",
       "\n",
       "[1188 rows x 4 columns]"
      ]
     },
     "execution_count": 9,
     "metadata": {},
     "output_type": "execute_result"
    }
   ],
   "source": [
    "df_lipinski"
   ]
  },
  {
   "cell_type": "code",
   "execution_count": 10,
   "metadata": {
    "colab": {
     "base_uri": "https://localhost:8080/",
     "height": 419
    },
    "colab_type": "code",
    "id": "9-ChzM8_wuq_",
    "outputId": "64a6a0c0-e29a-4cdd-c9ea-9b102b63cfe2"
   },
   "outputs": [
    {
     "data": {
      "text/html": [
       "<div>\n",
       "<style scoped>\n",
       "    .dataframe tbody tr th:only-of-type {\n",
       "        vertical-align: middle;\n",
       "    }\n",
       "\n",
       "    .dataframe tbody tr th {\n",
       "        vertical-align: top;\n",
       "    }\n",
       "\n",
       "    .dataframe thead th {\n",
       "        text-align: right;\n",
       "    }\n",
       "</style>\n",
       "<table border=\"1\" class=\"dataframe\">\n",
       "  <thead>\n",
       "    <tr style=\"text-align: right;\">\n",
       "      <th></th>\n",
       "      <th>molecule_chembl_id</th>\n",
       "      <th>canonical_smiles</th>\n",
       "      <th>standard_value</th>\n",
       "      <th>class</th>\n",
       "    </tr>\n",
       "  </thead>\n",
       "  <tbody>\n",
       "    <tr>\n",
       "      <th>0</th>\n",
       "      <td>CHEMBL311039</td>\n",
       "      <td>CC12CCC(C1)C(C)(C)C2NS(=O)(=O)c1ccc(F)cc1</td>\n",
       "      <td>5000.0</td>\n",
       "      <td>intermediate</td>\n",
       "    </tr>\n",
       "    <tr>\n",
       "      <th>1</th>\n",
       "      <td>CHEMBL450926</td>\n",
       "      <td>CC12CC[C@@H](C1)C(C)(C)[C@@H]2NS(=O)(=O)c1cccs1</td>\n",
       "      <td>2700.0</td>\n",
       "      <td>intermediate</td>\n",
       "    </tr>\n",
       "    <tr>\n",
       "      <th>2</th>\n",
       "      <td>CHEMBL310242</td>\n",
       "      <td>CC12CC[C@@H](C1)C(C)(C)[C@@H]2NS(=O)(=O)c1ccc(...</td>\n",
       "      <td>1800.0</td>\n",
       "      <td>intermediate</td>\n",
       "    </tr>\n",
       "    <tr>\n",
       "      <th>3</th>\n",
       "      <td>CHEMBL74874</td>\n",
       "      <td>CC12CC[C@@H](C1)C(C)(C)[C@@H]2NS(=O)(=O)c1ccc(...</td>\n",
       "      <td>11000.0</td>\n",
       "      <td>inactive</td>\n",
       "    </tr>\n",
       "    <tr>\n",
       "      <th>4</th>\n",
       "      <td>CHEMBL75183</td>\n",
       "      <td>CC12CC[C@@H](C1)C(C)(C)[C@@H]2NS(=O)(=O)c1ccc(...</td>\n",
       "      <td>10000.0</td>\n",
       "      <td>inactive</td>\n",
       "    </tr>\n",
       "    <tr>\n",
       "      <th>...</th>\n",
       "      <td>...</td>\n",
       "      <td>...</td>\n",
       "      <td>...</td>\n",
       "      <td>...</td>\n",
       "    </tr>\n",
       "    <tr>\n",
       "      <th>1183</th>\n",
       "      <td>CHEMBL5274298</td>\n",
       "      <td>COC(=O)c1cc(O)cc(OC)c1C(=O)c1c(O)cc(CO[C@H]2O[...</td>\n",
       "      <td>1030.0</td>\n",
       "      <td>intermediate</td>\n",
       "    </tr>\n",
       "    <tr>\n",
       "      <th>1184</th>\n",
       "      <td>CHEMBL5283067</td>\n",
       "      <td>COC(=O)c1c(Sc2c(O)cc(OC)c(C(=O)c3c(O)cc(C)cc3O...</td>\n",
       "      <td>990.0</td>\n",
       "      <td>active</td>\n",
       "    </tr>\n",
       "    <tr>\n",
       "      <th>1185</th>\n",
       "      <td>CHEMBL5273520</td>\n",
       "      <td>COC(=O)c1c(O)cc(C)c(Sc2c(O)cc(OC)c(Oc3c(O)cc(C...</td>\n",
       "      <td>100.0</td>\n",
       "      <td>active</td>\n",
       "    </tr>\n",
       "    <tr>\n",
       "      <th>1186</th>\n",
       "      <td>CHEMBL5282081</td>\n",
       "      <td>COC(=O)c1c(O)cc(C)cc1C(=O)c1cc(O)cc2oc3cc4c(c(...</td>\n",
       "      <td>1560.0</td>\n",
       "      <td>intermediate</td>\n",
       "    </tr>\n",
       "    <tr>\n",
       "      <th>1187</th>\n",
       "      <td>CHEMBL5274654</td>\n",
       "      <td>Cc1cc(O)c(C(=O)c2c(O)cc3c(c2O)C(=O)c2c(O)cc(C)...</td>\n",
       "      <td>180.0</td>\n",
       "      <td>active</td>\n",
       "    </tr>\n",
       "  </tbody>\n",
       "</table>\n",
       "<p>1188 rows × 4 columns</p>\n",
       "</div>"
      ],
      "text/plain": [
       "     molecule_chembl_id                                   canonical_smiles  \\\n",
       "0          CHEMBL311039          CC12CCC(C1)C(C)(C)C2NS(=O)(=O)c1ccc(F)cc1   \n",
       "1          CHEMBL450926    CC12CC[C@@H](C1)C(C)(C)[C@@H]2NS(=O)(=O)c1cccs1   \n",
       "2          CHEMBL310242  CC12CC[C@@H](C1)C(C)(C)[C@@H]2NS(=O)(=O)c1ccc(...   \n",
       "3           CHEMBL74874  CC12CC[C@@H](C1)C(C)(C)[C@@H]2NS(=O)(=O)c1ccc(...   \n",
       "4           CHEMBL75183  CC12CC[C@@H](C1)C(C)(C)[C@@H]2NS(=O)(=O)c1ccc(...   \n",
       "...                 ...                                                ...   \n",
       "1183      CHEMBL5274298  COC(=O)c1cc(O)cc(OC)c1C(=O)c1c(O)cc(CO[C@H]2O[...   \n",
       "1184      CHEMBL5283067  COC(=O)c1c(Sc2c(O)cc(OC)c(C(=O)c3c(O)cc(C)cc3O...   \n",
       "1185      CHEMBL5273520  COC(=O)c1c(O)cc(C)c(Sc2c(O)cc(OC)c(Oc3c(O)cc(C...   \n",
       "1186      CHEMBL5282081  COC(=O)c1c(O)cc(C)cc1C(=O)c1cc(O)cc2oc3cc4c(c(...   \n",
       "1187      CHEMBL5274654  Cc1cc(O)c(C(=O)c2c(O)cc3c(c2O)C(=O)c2c(O)cc(C)...   \n",
       "\n",
       "      standard_value         class  \n",
       "0             5000.0  intermediate  \n",
       "1             2700.0  intermediate  \n",
       "2             1800.0  intermediate  \n",
       "3            11000.0      inactive  \n",
       "4            10000.0      inactive  \n",
       "...              ...           ...  \n",
       "1183          1030.0  intermediate  \n",
       "1184           990.0        active  \n",
       "1185           100.0        active  \n",
       "1186          1560.0  intermediate  \n",
       "1187           180.0        active  \n",
       "\n",
       "[1188 rows x 4 columns]"
      ]
     },
     "execution_count": 10,
     "metadata": {},
     "output_type": "execute_result"
    }
   ],
   "source": [
    "df"
   ]
  },
  {
   "cell_type": "markdown",
   "metadata": {
    "colab_type": "text",
    "id": "eET6iZ1Aw3oe"
   },
   "source": [
    "Now, let's combine the 2 DataFrame"
   ]
  },
  {
   "cell_type": "code",
   "execution_count": 11,
   "metadata": {
    "colab": {},
    "colab_type": "code",
    "id": "L9nUZC0Ww3gp"
   },
   "outputs": [],
   "source": [
    "df_combined = pd.concat([df,df_lipinski], axis=1)"
   ]
  },
  {
   "cell_type": "code",
   "execution_count": 12,
   "metadata": {
    "colab": {
     "base_uri": "https://localhost:8080/",
     "height": 419
    },
    "colab_type": "code",
    "id": "FRBfBP3QxFJp",
    "outputId": "33528544-8108-4303-a9f2-977c0f6aef91"
   },
   "outputs": [
    {
     "data": {
      "text/html": [
       "<div>\n",
       "<style scoped>\n",
       "    .dataframe tbody tr th:only-of-type {\n",
       "        vertical-align: middle;\n",
       "    }\n",
       "\n",
       "    .dataframe tbody tr th {\n",
       "        vertical-align: top;\n",
       "    }\n",
       "\n",
       "    .dataframe thead th {\n",
       "        text-align: right;\n",
       "    }\n",
       "</style>\n",
       "<table border=\"1\" class=\"dataframe\">\n",
       "  <thead>\n",
       "    <tr style=\"text-align: right;\">\n",
       "      <th></th>\n",
       "      <th>molecule_chembl_id</th>\n",
       "      <th>canonical_smiles</th>\n",
       "      <th>standard_value</th>\n",
       "      <th>class</th>\n",
       "      <th>MW</th>\n",
       "      <th>LogP</th>\n",
       "      <th>NumHDonors</th>\n",
       "      <th>NumHAcceptors</th>\n",
       "    </tr>\n",
       "  </thead>\n",
       "  <tbody>\n",
       "    <tr>\n",
       "      <th>0</th>\n",
       "      <td>CHEMBL311039</td>\n",
       "      <td>CC12CCC(C1)C(C)(C)C2NS(=O)(=O)c1ccc(F)cc1</td>\n",
       "      <td>5000.0</td>\n",
       "      <td>intermediate</td>\n",
       "      <td>311.422</td>\n",
       "      <td>3.31880</td>\n",
       "      <td>1.0</td>\n",
       "      <td>2.0</td>\n",
       "    </tr>\n",
       "    <tr>\n",
       "      <th>1</th>\n",
       "      <td>CHEMBL450926</td>\n",
       "      <td>CC12CC[C@@H](C1)C(C)(C)[C@@H]2NS(=O)(=O)c1cccs1</td>\n",
       "      <td>2700.0</td>\n",
       "      <td>intermediate</td>\n",
       "      <td>299.461</td>\n",
       "      <td>3.24120</td>\n",
       "      <td>1.0</td>\n",
       "      <td>3.0</td>\n",
       "    </tr>\n",
       "    <tr>\n",
       "      <th>2</th>\n",
       "      <td>CHEMBL310242</td>\n",
       "      <td>CC12CC[C@@H](C1)C(C)(C)[C@@H]2NS(=O)(=O)c1ccc(...</td>\n",
       "      <td>1800.0</td>\n",
       "      <td>intermediate</td>\n",
       "      <td>311.422</td>\n",
       "      <td>3.31880</td>\n",
       "      <td>1.0</td>\n",
       "      <td>2.0</td>\n",
       "    </tr>\n",
       "    <tr>\n",
       "      <th>3</th>\n",
       "      <td>CHEMBL74874</td>\n",
       "      <td>CC12CC[C@@H](C1)C(C)(C)[C@@H]2NS(=O)(=O)c1ccc(...</td>\n",
       "      <td>11000.0</td>\n",
       "      <td>inactive</td>\n",
       "      <td>327.877</td>\n",
       "      <td>3.83310</td>\n",
       "      <td>1.0</td>\n",
       "      <td>2.0</td>\n",
       "    </tr>\n",
       "    <tr>\n",
       "      <th>4</th>\n",
       "      <td>CHEMBL75183</td>\n",
       "      <td>CC12CC[C@@H](C1)C(C)(C)[C@@H]2NS(=O)(=O)c1ccc(...</td>\n",
       "      <td>10000.0</td>\n",
       "      <td>inactive</td>\n",
       "      <td>372.328</td>\n",
       "      <td>3.94220</td>\n",
       "      <td>1.0</td>\n",
       "      <td>2.0</td>\n",
       "    </tr>\n",
       "    <tr>\n",
       "      <th>...</th>\n",
       "      <td>...</td>\n",
       "      <td>...</td>\n",
       "      <td>...</td>\n",
       "      <td>...</td>\n",
       "      <td>...</td>\n",
       "      <td>...</td>\n",
       "      <td>...</td>\n",
       "      <td>...</td>\n",
       "    </tr>\n",
       "    <tr>\n",
       "      <th>1183</th>\n",
       "      <td>CHEMBL5274298</td>\n",
       "      <td>COC(=O)c1cc(O)cc(OC)c1C(=O)c1c(O)cc(CO[C@H]2O[...</td>\n",
       "      <td>1030.0</td>\n",
       "      <td>intermediate</td>\n",
       "      <td>510.448</td>\n",
       "      <td>-0.85390</td>\n",
       "      <td>7.0</td>\n",
       "      <td>13.0</td>\n",
       "    </tr>\n",
       "    <tr>\n",
       "      <th>1184</th>\n",
       "      <td>CHEMBL5283067</td>\n",
       "      <td>COC(=O)c1c(Sc2c(O)cc(OC)c(C(=O)c3c(O)cc(C)cc3O...</td>\n",
       "      <td>990.0</td>\n",
       "      <td>active</td>\n",
       "      <td>680.640</td>\n",
       "      <td>4.43222</td>\n",
       "      <td>6.0</td>\n",
       "      <td>15.0</td>\n",
       "    </tr>\n",
       "    <tr>\n",
       "      <th>1185</th>\n",
       "      <td>CHEMBL5273520</td>\n",
       "      <td>COC(=O)c1c(O)cc(C)c(Sc2c(O)cc(OC)c(Oc3c(O)cc(C...</td>\n",
       "      <td>100.0</td>\n",
       "      <td>active</td>\n",
       "      <td>624.620</td>\n",
       "      <td>5.52076</td>\n",
       "      <td>7.0</td>\n",
       "      <td>13.0</td>\n",
       "    </tr>\n",
       "    <tr>\n",
       "      <th>1186</th>\n",
       "      <td>CHEMBL5282081</td>\n",
       "      <td>COC(=O)c1c(O)cc(C)cc1C(=O)c1cc(O)cc2oc3cc4c(c(...</td>\n",
       "      <td>1560.0</td>\n",
       "      <td>intermediate</td>\n",
       "      <td>552.491</td>\n",
       "      <td>4.81824</td>\n",
       "      <td>4.0</td>\n",
       "      <td>10.0</td>\n",
       "    </tr>\n",
       "    <tr>\n",
       "      <th>1187</th>\n",
       "      <td>CHEMBL5274654</td>\n",
       "      <td>Cc1cc(O)c(C(=O)c2c(O)cc3c(c2O)C(=O)c2c(O)cc(C)...</td>\n",
       "      <td>180.0</td>\n",
       "      <td>active</td>\n",
       "      <td>556.479</td>\n",
       "      <td>3.48004</td>\n",
       "      <td>7.0</td>\n",
       "      <td>11.0</td>\n",
       "    </tr>\n",
       "  </tbody>\n",
       "</table>\n",
       "<p>1188 rows × 8 columns</p>\n",
       "</div>"
      ],
      "text/plain": [
       "     molecule_chembl_id                                   canonical_smiles  \\\n",
       "0          CHEMBL311039          CC12CCC(C1)C(C)(C)C2NS(=O)(=O)c1ccc(F)cc1   \n",
       "1          CHEMBL450926    CC12CC[C@@H](C1)C(C)(C)[C@@H]2NS(=O)(=O)c1cccs1   \n",
       "2          CHEMBL310242  CC12CC[C@@H](C1)C(C)(C)[C@@H]2NS(=O)(=O)c1ccc(...   \n",
       "3           CHEMBL74874  CC12CC[C@@H](C1)C(C)(C)[C@@H]2NS(=O)(=O)c1ccc(...   \n",
       "4           CHEMBL75183  CC12CC[C@@H](C1)C(C)(C)[C@@H]2NS(=O)(=O)c1ccc(...   \n",
       "...                 ...                                                ...   \n",
       "1183      CHEMBL5274298  COC(=O)c1cc(O)cc(OC)c1C(=O)c1c(O)cc(CO[C@H]2O[...   \n",
       "1184      CHEMBL5283067  COC(=O)c1c(Sc2c(O)cc(OC)c(C(=O)c3c(O)cc(C)cc3O...   \n",
       "1185      CHEMBL5273520  COC(=O)c1c(O)cc(C)c(Sc2c(O)cc(OC)c(Oc3c(O)cc(C...   \n",
       "1186      CHEMBL5282081  COC(=O)c1c(O)cc(C)cc1C(=O)c1cc(O)cc2oc3cc4c(c(...   \n",
       "1187      CHEMBL5274654  Cc1cc(O)c(C(=O)c2c(O)cc3c(c2O)C(=O)c2c(O)cc(C)...   \n",
       "\n",
       "      standard_value         class       MW     LogP  NumHDonors  \\\n",
       "0             5000.0  intermediate  311.422  3.31880         1.0   \n",
       "1             2700.0  intermediate  299.461  3.24120         1.0   \n",
       "2             1800.0  intermediate  311.422  3.31880         1.0   \n",
       "3            11000.0      inactive  327.877  3.83310         1.0   \n",
       "4            10000.0      inactive  372.328  3.94220         1.0   \n",
       "...              ...           ...      ...      ...         ...   \n",
       "1183          1030.0  intermediate  510.448 -0.85390         7.0   \n",
       "1184           990.0        active  680.640  4.43222         6.0   \n",
       "1185           100.0        active  624.620  5.52076         7.0   \n",
       "1186          1560.0  intermediate  552.491  4.81824         4.0   \n",
       "1187           180.0        active  556.479  3.48004         7.0   \n",
       "\n",
       "      NumHAcceptors  \n",
       "0               2.0  \n",
       "1               3.0  \n",
       "2               2.0  \n",
       "3               2.0  \n",
       "4               2.0  \n",
       "...             ...  \n",
       "1183           13.0  \n",
       "1184           15.0  \n",
       "1185           13.0  \n",
       "1186           10.0  \n",
       "1187           11.0  \n",
       "\n",
       "[1188 rows x 8 columns]"
      ]
     },
     "execution_count": 12,
     "metadata": {},
     "output_type": "execute_result"
    }
   ],
   "source": [
    "df_combined"
   ]
  },
  {
   "cell_type": "markdown",
   "metadata": {
    "colab_type": "text",
    "id": "e0MLOedB6j96"
   },
   "source": [
    "### **Convert IC50 to pIC50**\n",
    "To allow **IC50** data to be more uniformly distributed, we will convert **IC50** to the negative logarithmic scale which is essentially **-log10(IC50)**.\n",
    "\n",
    "This custom function pIC50() will accept a DataFrame as input and will:\n",
    "* Take the IC50 values from the ``standard_value`` column and converts it from nM to M by multiplying the value by 10$^{-9}$\n",
    "* Take the molar value and apply -log10\n",
    "* Delete the ``standard_value`` column and create a new ``pIC50`` column"
   ]
  },
  {
   "cell_type": "code",
   "execution_count": 13,
   "metadata": {
    "colab": {},
    "colab_type": "code",
    "id": "UXMuFQoQ4pZF"
   },
   "outputs": [],
   "source": [
    "# https://github.com/chaninlab/estrogen-receptor-alpha-qsar/blob/master/02_ER_alpha_RO5.ipynb\n",
    "\n",
    "def pIC50(input):\n",
    "    pIC50 = []\n",
    "\n",
    "    for i in input['standard_value_norm']:\n",
    "        molar = i*(10**-9) # Converts nM to M\n",
    "        pIC50.append(-np.log10(molar))\n",
    "\n",
    "    input['pIC50'] = pIC50\n",
    "    x = input.drop('standard_value_norm', 1)\n",
    "        \n",
    "    return x"
   ]
  },
  {
   "cell_type": "markdown",
   "metadata": {
    "colab_type": "text",
    "id": "WU5Fh1h2OaJJ"
   },
   "source": [
    "Point to note: Values greater than 100,000,000 will be fixed at 100,000,000 otherwise the negative logarithmic value will become negative."
   ]
  },
  {
   "cell_type": "code",
   "execution_count": 14,
   "metadata": {
    "colab": {
     "base_uri": "https://localhost:8080/",
     "height": 170
    },
    "colab_type": "code",
    "id": "QuUTFUpcR1wU",
    "outputId": "3e3fe22d-8587-42e3-c92e-396d37877589"
   },
   "outputs": [
    {
     "data": {
      "text/plain": [
       "count    1.188000e+03\n",
       "mean     2.334128e+04\n",
       "std      8.556325e+04\n",
       "min     -1.000000e+00\n",
       "25%      1.790000e+02\n",
       "50%      3.865000e+03\n",
       "75%      1.711750e+04\n",
       "max      1.655000e+06\n",
       "Name: standard_value, dtype: float64"
      ]
     },
     "execution_count": 14,
     "metadata": {},
     "output_type": "execute_result"
    }
   ],
   "source": [
    "df_combined.standard_value.describe()"
   ]
  },
  {
   "cell_type": "code",
   "execution_count": 15,
   "metadata": {
    "colab": {
     "base_uri": "https://localhost:8080/",
     "height": 34
    },
    "colab_type": "code",
    "id": "QyiJ0to5N6Z_",
    "outputId": "58b38ec2-8f7d-4f44-cc35-1ef394f57854"
   },
   "outputs": [
    {
     "data": {
      "text/plain": [
       "1.0"
      ]
     },
     "execution_count": 15,
     "metadata": {},
     "output_type": "execute_result"
    }
   ],
   "source": [
    "-np.log10( (10**-9)* 100000000 )"
   ]
  },
  {
   "cell_type": "code",
   "execution_count": 16,
   "metadata": {
    "colab": {
     "base_uri": "https://localhost:8080/",
     "height": 34
    },
    "colab_type": "code",
    "id": "9S1aJkOYOP6K",
    "outputId": "0d9c6937-7c36-4844-f84b-9a95a22802dc"
   },
   "outputs": [
    {
     "data": {
      "text/plain": [
       "-1.0"
      ]
     },
     "execution_count": 16,
     "metadata": {},
     "output_type": "execute_result"
    }
   ],
   "source": [
    "-np.log10( (10**-9)* 10000000000 )"
   ]
  },
  {
   "cell_type": "code",
   "execution_count": 17,
   "metadata": {
    "colab": {},
    "colab_type": "code",
    "id": "iktHDDwtPDwl"
   },
   "outputs": [],
   "source": [
    "def norm_value(input):\n",
    "    norm = []\n",
    "\n",
    "    for i in input['standard_value']:\n",
    "        if i > 100000000:\n",
    "          i = 100000000\n",
    "        norm.append(i)\n",
    "\n",
    "    input['standard_value_norm'] = norm\n",
    "    x = input.drop('standard_value', 1)\n",
    "        \n",
    "    return x"
   ]
  },
  {
   "cell_type": "markdown",
   "metadata": {
    "colab_type": "text",
    "id": "EkrTs7RfPsrH"
   },
   "source": [
    "The norm_value() function was applied first so that the values in the standard_value column are normalized."
   ]
  },
  {
   "cell_type": "code",
   "execution_count": 18,
   "metadata": {
    "colab": {
     "base_uri": "https://localhost:8080/",
     "height": 419
    },
    "colab_type": "code",
    "id": "EX2Mj2-ZP1Rj",
    "outputId": "8e07791e-d693-4d1b-9f82-f396d34c6338"
   },
   "outputs": [
    {
     "name": "stderr",
     "output_type": "stream",
     "text": [
      "/var/folders/lj/n_54qj7x37j8cycdp5dnpb8m0000gn/T/ipykernel_2545/3416609517.py:10: FutureWarning: In a future version of pandas all arguments of DataFrame.drop except for the argument 'labels' will be keyword-only.\n",
      "  x = input.drop('standard_value', 1)\n"
     ]
    },
    {
     "data": {
      "text/html": [
       "<div>\n",
       "<style scoped>\n",
       "    .dataframe tbody tr th:only-of-type {\n",
       "        vertical-align: middle;\n",
       "    }\n",
       "\n",
       "    .dataframe tbody tr th {\n",
       "        vertical-align: top;\n",
       "    }\n",
       "\n",
       "    .dataframe thead th {\n",
       "        text-align: right;\n",
       "    }\n",
       "</style>\n",
       "<table border=\"1\" class=\"dataframe\">\n",
       "  <thead>\n",
       "    <tr style=\"text-align: right;\">\n",
       "      <th></th>\n",
       "      <th>molecule_chembl_id</th>\n",
       "      <th>canonical_smiles</th>\n",
       "      <th>class</th>\n",
       "      <th>MW</th>\n",
       "      <th>LogP</th>\n",
       "      <th>NumHDonors</th>\n",
       "      <th>NumHAcceptors</th>\n",
       "      <th>standard_value_norm</th>\n",
       "    </tr>\n",
       "  </thead>\n",
       "  <tbody>\n",
       "    <tr>\n",
       "      <th>0</th>\n",
       "      <td>CHEMBL311039</td>\n",
       "      <td>CC12CCC(C1)C(C)(C)C2NS(=O)(=O)c1ccc(F)cc1</td>\n",
       "      <td>intermediate</td>\n",
       "      <td>311.422</td>\n",
       "      <td>3.31880</td>\n",
       "      <td>1.0</td>\n",
       "      <td>2.0</td>\n",
       "      <td>5000.0</td>\n",
       "    </tr>\n",
       "    <tr>\n",
       "      <th>1</th>\n",
       "      <td>CHEMBL450926</td>\n",
       "      <td>CC12CC[C@@H](C1)C(C)(C)[C@@H]2NS(=O)(=O)c1cccs1</td>\n",
       "      <td>intermediate</td>\n",
       "      <td>299.461</td>\n",
       "      <td>3.24120</td>\n",
       "      <td>1.0</td>\n",
       "      <td>3.0</td>\n",
       "      <td>2700.0</td>\n",
       "    </tr>\n",
       "    <tr>\n",
       "      <th>2</th>\n",
       "      <td>CHEMBL310242</td>\n",
       "      <td>CC12CC[C@@H](C1)C(C)(C)[C@@H]2NS(=O)(=O)c1ccc(...</td>\n",
       "      <td>intermediate</td>\n",
       "      <td>311.422</td>\n",
       "      <td>3.31880</td>\n",
       "      <td>1.0</td>\n",
       "      <td>2.0</td>\n",
       "      <td>1800.0</td>\n",
       "    </tr>\n",
       "    <tr>\n",
       "      <th>3</th>\n",
       "      <td>CHEMBL74874</td>\n",
       "      <td>CC12CC[C@@H](C1)C(C)(C)[C@@H]2NS(=O)(=O)c1ccc(...</td>\n",
       "      <td>inactive</td>\n",
       "      <td>327.877</td>\n",
       "      <td>3.83310</td>\n",
       "      <td>1.0</td>\n",
       "      <td>2.0</td>\n",
       "      <td>11000.0</td>\n",
       "    </tr>\n",
       "    <tr>\n",
       "      <th>4</th>\n",
       "      <td>CHEMBL75183</td>\n",
       "      <td>CC12CC[C@@H](C1)C(C)(C)[C@@H]2NS(=O)(=O)c1ccc(...</td>\n",
       "      <td>inactive</td>\n",
       "      <td>372.328</td>\n",
       "      <td>3.94220</td>\n",
       "      <td>1.0</td>\n",
       "      <td>2.0</td>\n",
       "      <td>10000.0</td>\n",
       "    </tr>\n",
       "    <tr>\n",
       "      <th>...</th>\n",
       "      <td>...</td>\n",
       "      <td>...</td>\n",
       "      <td>...</td>\n",
       "      <td>...</td>\n",
       "      <td>...</td>\n",
       "      <td>...</td>\n",
       "      <td>...</td>\n",
       "      <td>...</td>\n",
       "    </tr>\n",
       "    <tr>\n",
       "      <th>1183</th>\n",
       "      <td>CHEMBL5274298</td>\n",
       "      <td>COC(=O)c1cc(O)cc(OC)c1C(=O)c1c(O)cc(CO[C@H]2O[...</td>\n",
       "      <td>intermediate</td>\n",
       "      <td>510.448</td>\n",
       "      <td>-0.85390</td>\n",
       "      <td>7.0</td>\n",
       "      <td>13.0</td>\n",
       "      <td>1030.0</td>\n",
       "    </tr>\n",
       "    <tr>\n",
       "      <th>1184</th>\n",
       "      <td>CHEMBL5283067</td>\n",
       "      <td>COC(=O)c1c(Sc2c(O)cc(OC)c(C(=O)c3c(O)cc(C)cc3O...</td>\n",
       "      <td>active</td>\n",
       "      <td>680.640</td>\n",
       "      <td>4.43222</td>\n",
       "      <td>6.0</td>\n",
       "      <td>15.0</td>\n",
       "      <td>990.0</td>\n",
       "    </tr>\n",
       "    <tr>\n",
       "      <th>1185</th>\n",
       "      <td>CHEMBL5273520</td>\n",
       "      <td>COC(=O)c1c(O)cc(C)c(Sc2c(O)cc(OC)c(Oc3c(O)cc(C...</td>\n",
       "      <td>active</td>\n",
       "      <td>624.620</td>\n",
       "      <td>5.52076</td>\n",
       "      <td>7.0</td>\n",
       "      <td>13.0</td>\n",
       "      <td>100.0</td>\n",
       "    </tr>\n",
       "    <tr>\n",
       "      <th>1186</th>\n",
       "      <td>CHEMBL5282081</td>\n",
       "      <td>COC(=O)c1c(O)cc(C)cc1C(=O)c1cc(O)cc2oc3cc4c(c(...</td>\n",
       "      <td>intermediate</td>\n",
       "      <td>552.491</td>\n",
       "      <td>4.81824</td>\n",
       "      <td>4.0</td>\n",
       "      <td>10.0</td>\n",
       "      <td>1560.0</td>\n",
       "    </tr>\n",
       "    <tr>\n",
       "      <th>1187</th>\n",
       "      <td>CHEMBL5274654</td>\n",
       "      <td>Cc1cc(O)c(C(=O)c2c(O)cc3c(c2O)C(=O)c2c(O)cc(C)...</td>\n",
       "      <td>active</td>\n",
       "      <td>556.479</td>\n",
       "      <td>3.48004</td>\n",
       "      <td>7.0</td>\n",
       "      <td>11.0</td>\n",
       "      <td>180.0</td>\n",
       "    </tr>\n",
       "  </tbody>\n",
       "</table>\n",
       "<p>1188 rows × 8 columns</p>\n",
       "</div>"
      ],
      "text/plain": [
       "     molecule_chembl_id                                   canonical_smiles  \\\n",
       "0          CHEMBL311039          CC12CCC(C1)C(C)(C)C2NS(=O)(=O)c1ccc(F)cc1   \n",
       "1          CHEMBL450926    CC12CC[C@@H](C1)C(C)(C)[C@@H]2NS(=O)(=O)c1cccs1   \n",
       "2          CHEMBL310242  CC12CC[C@@H](C1)C(C)(C)[C@@H]2NS(=O)(=O)c1ccc(...   \n",
       "3           CHEMBL74874  CC12CC[C@@H](C1)C(C)(C)[C@@H]2NS(=O)(=O)c1ccc(...   \n",
       "4           CHEMBL75183  CC12CC[C@@H](C1)C(C)(C)[C@@H]2NS(=O)(=O)c1ccc(...   \n",
       "...                 ...                                                ...   \n",
       "1183      CHEMBL5274298  COC(=O)c1cc(O)cc(OC)c1C(=O)c1c(O)cc(CO[C@H]2O[...   \n",
       "1184      CHEMBL5283067  COC(=O)c1c(Sc2c(O)cc(OC)c(C(=O)c3c(O)cc(C)cc3O...   \n",
       "1185      CHEMBL5273520  COC(=O)c1c(O)cc(C)c(Sc2c(O)cc(OC)c(Oc3c(O)cc(C...   \n",
       "1186      CHEMBL5282081  COC(=O)c1c(O)cc(C)cc1C(=O)c1cc(O)cc2oc3cc4c(c(...   \n",
       "1187      CHEMBL5274654  Cc1cc(O)c(C(=O)c2c(O)cc3c(c2O)C(=O)c2c(O)cc(C)...   \n",
       "\n",
       "             class       MW     LogP  NumHDonors  NumHAcceptors  \\\n",
       "0     intermediate  311.422  3.31880         1.0            2.0   \n",
       "1     intermediate  299.461  3.24120         1.0            3.0   \n",
       "2     intermediate  311.422  3.31880         1.0            2.0   \n",
       "3         inactive  327.877  3.83310         1.0            2.0   \n",
       "4         inactive  372.328  3.94220         1.0            2.0   \n",
       "...            ...      ...      ...         ...            ...   \n",
       "1183  intermediate  510.448 -0.85390         7.0           13.0   \n",
       "1184        active  680.640  4.43222         6.0           15.0   \n",
       "1185        active  624.620  5.52076         7.0           13.0   \n",
       "1186  intermediate  552.491  4.81824         4.0           10.0   \n",
       "1187        active  556.479  3.48004         7.0           11.0   \n",
       "\n",
       "      standard_value_norm  \n",
       "0                  5000.0  \n",
       "1                  2700.0  \n",
       "2                  1800.0  \n",
       "3                 11000.0  \n",
       "4                 10000.0  \n",
       "...                   ...  \n",
       "1183               1030.0  \n",
       "1184                990.0  \n",
       "1185                100.0  \n",
       "1186               1560.0  \n",
       "1187                180.0  \n",
       "\n",
       "[1188 rows x 8 columns]"
      ]
     },
     "execution_count": 18,
     "metadata": {},
     "output_type": "execute_result"
    }
   ],
   "source": [
    "df_norm = norm_value(df_combined)\n",
    "df_norm"
   ]
  },
  {
   "cell_type": "code",
   "execution_count": 19,
   "metadata": {
    "colab": {
     "base_uri": "https://localhost:8080/",
     "height": 170
    },
    "colab_type": "code",
    "id": "hb1eKrIjRiH9",
    "outputId": "8435d28b-9774-4567-8134-51bfc3fc8271"
   },
   "outputs": [
    {
     "data": {
      "text/plain": [
       "count    1.188000e+03\n",
       "mean     2.334128e+04\n",
       "std      8.556325e+04\n",
       "min     -1.000000e+00\n",
       "25%      1.790000e+02\n",
       "50%      3.865000e+03\n",
       "75%      1.711750e+04\n",
       "max      1.655000e+06\n",
       "Name: standard_value_norm, dtype: float64"
      ]
     },
     "execution_count": 19,
     "metadata": {},
     "output_type": "execute_result"
    }
   ],
   "source": [
    "df_norm.standard_value_norm.describe()"
   ]
  },
  {
   "cell_type": "code",
   "execution_count": 20,
   "metadata": {
    "colab": {
     "base_uri": "https://localhost:8080/",
     "height": 419
    },
    "colab_type": "code",
    "id": "UDKZzmK57YnS",
    "outputId": "89ec9de3-c71e-44fb-86a5-3b4172cf9e63"
   },
   "outputs": [
    {
     "name": "stderr",
     "output_type": "stream",
     "text": [
      "/var/folders/lj/n_54qj7x37j8cycdp5dnpb8m0000gn/T/ipykernel_2545/3236955376.py:8: RuntimeWarning: invalid value encountered in log10\n",
      "  pIC50.append(-np.log10(molar))\n",
      "/var/folders/lj/n_54qj7x37j8cycdp5dnpb8m0000gn/T/ipykernel_2545/3236955376.py:11: FutureWarning: In a future version of pandas all arguments of DataFrame.drop except for the argument 'labels' will be keyword-only.\n",
      "  x = input.drop('standard_value_norm', 1)\n"
     ]
    },
    {
     "data": {
      "text/html": [
       "<div>\n",
       "<style scoped>\n",
       "    .dataframe tbody tr th:only-of-type {\n",
       "        vertical-align: middle;\n",
       "    }\n",
       "\n",
       "    .dataframe tbody tr th {\n",
       "        vertical-align: top;\n",
       "    }\n",
       "\n",
       "    .dataframe thead th {\n",
       "        text-align: right;\n",
       "    }\n",
       "</style>\n",
       "<table border=\"1\" class=\"dataframe\">\n",
       "  <thead>\n",
       "    <tr style=\"text-align: right;\">\n",
       "      <th></th>\n",
       "      <th>molecule_chembl_id</th>\n",
       "      <th>canonical_smiles</th>\n",
       "      <th>class</th>\n",
       "      <th>MW</th>\n",
       "      <th>LogP</th>\n",
       "      <th>NumHDonors</th>\n",
       "      <th>NumHAcceptors</th>\n",
       "      <th>pIC50</th>\n",
       "    </tr>\n",
       "  </thead>\n",
       "  <tbody>\n",
       "    <tr>\n",
       "      <th>0</th>\n",
       "      <td>CHEMBL311039</td>\n",
       "      <td>CC12CCC(C1)C(C)(C)C2NS(=O)(=O)c1ccc(F)cc1</td>\n",
       "      <td>intermediate</td>\n",
       "      <td>311.422</td>\n",
       "      <td>3.31880</td>\n",
       "      <td>1.0</td>\n",
       "      <td>2.0</td>\n",
       "      <td>5.301030</td>\n",
       "    </tr>\n",
       "    <tr>\n",
       "      <th>1</th>\n",
       "      <td>CHEMBL450926</td>\n",
       "      <td>CC12CC[C@@H](C1)C(C)(C)[C@@H]2NS(=O)(=O)c1cccs1</td>\n",
       "      <td>intermediate</td>\n",
       "      <td>299.461</td>\n",
       "      <td>3.24120</td>\n",
       "      <td>1.0</td>\n",
       "      <td>3.0</td>\n",
       "      <td>5.568636</td>\n",
       "    </tr>\n",
       "    <tr>\n",
       "      <th>2</th>\n",
       "      <td>CHEMBL310242</td>\n",
       "      <td>CC12CC[C@@H](C1)C(C)(C)[C@@H]2NS(=O)(=O)c1ccc(...</td>\n",
       "      <td>intermediate</td>\n",
       "      <td>311.422</td>\n",
       "      <td>3.31880</td>\n",
       "      <td>1.0</td>\n",
       "      <td>2.0</td>\n",
       "      <td>5.744727</td>\n",
       "    </tr>\n",
       "    <tr>\n",
       "      <th>3</th>\n",
       "      <td>CHEMBL74874</td>\n",
       "      <td>CC12CC[C@@H](C1)C(C)(C)[C@@H]2NS(=O)(=O)c1ccc(...</td>\n",
       "      <td>inactive</td>\n",
       "      <td>327.877</td>\n",
       "      <td>3.83310</td>\n",
       "      <td>1.0</td>\n",
       "      <td>2.0</td>\n",
       "      <td>4.958607</td>\n",
       "    </tr>\n",
       "    <tr>\n",
       "      <th>4</th>\n",
       "      <td>CHEMBL75183</td>\n",
       "      <td>CC12CC[C@@H](C1)C(C)(C)[C@@H]2NS(=O)(=O)c1ccc(...</td>\n",
       "      <td>inactive</td>\n",
       "      <td>372.328</td>\n",
       "      <td>3.94220</td>\n",
       "      <td>1.0</td>\n",
       "      <td>2.0</td>\n",
       "      <td>5.000000</td>\n",
       "    </tr>\n",
       "    <tr>\n",
       "      <th>...</th>\n",
       "      <td>...</td>\n",
       "      <td>...</td>\n",
       "      <td>...</td>\n",
       "      <td>...</td>\n",
       "      <td>...</td>\n",
       "      <td>...</td>\n",
       "      <td>...</td>\n",
       "      <td>...</td>\n",
       "    </tr>\n",
       "    <tr>\n",
       "      <th>1183</th>\n",
       "      <td>CHEMBL5274298</td>\n",
       "      <td>COC(=O)c1cc(O)cc(OC)c1C(=O)c1c(O)cc(CO[C@H]2O[...</td>\n",
       "      <td>intermediate</td>\n",
       "      <td>510.448</td>\n",
       "      <td>-0.85390</td>\n",
       "      <td>7.0</td>\n",
       "      <td>13.0</td>\n",
       "      <td>5.987163</td>\n",
       "    </tr>\n",
       "    <tr>\n",
       "      <th>1184</th>\n",
       "      <td>CHEMBL5283067</td>\n",
       "      <td>COC(=O)c1c(Sc2c(O)cc(OC)c(C(=O)c3c(O)cc(C)cc3O...</td>\n",
       "      <td>active</td>\n",
       "      <td>680.640</td>\n",
       "      <td>4.43222</td>\n",
       "      <td>6.0</td>\n",
       "      <td>15.0</td>\n",
       "      <td>6.004365</td>\n",
       "    </tr>\n",
       "    <tr>\n",
       "      <th>1185</th>\n",
       "      <td>CHEMBL5273520</td>\n",
       "      <td>COC(=O)c1c(O)cc(C)c(Sc2c(O)cc(OC)c(Oc3c(O)cc(C...</td>\n",
       "      <td>active</td>\n",
       "      <td>624.620</td>\n",
       "      <td>5.52076</td>\n",
       "      <td>7.0</td>\n",
       "      <td>13.0</td>\n",
       "      <td>7.000000</td>\n",
       "    </tr>\n",
       "    <tr>\n",
       "      <th>1186</th>\n",
       "      <td>CHEMBL5282081</td>\n",
       "      <td>COC(=O)c1c(O)cc(C)cc1C(=O)c1cc(O)cc2oc3cc4c(c(...</td>\n",
       "      <td>intermediate</td>\n",
       "      <td>552.491</td>\n",
       "      <td>4.81824</td>\n",
       "      <td>4.0</td>\n",
       "      <td>10.0</td>\n",
       "      <td>5.806875</td>\n",
       "    </tr>\n",
       "    <tr>\n",
       "      <th>1187</th>\n",
       "      <td>CHEMBL5274654</td>\n",
       "      <td>Cc1cc(O)c(C(=O)c2c(O)cc3c(c2O)C(=O)c2c(O)cc(C)...</td>\n",
       "      <td>active</td>\n",
       "      <td>556.479</td>\n",
       "      <td>3.48004</td>\n",
       "      <td>7.0</td>\n",
       "      <td>11.0</td>\n",
       "      <td>6.744727</td>\n",
       "    </tr>\n",
       "  </tbody>\n",
       "</table>\n",
       "<p>1188 rows × 8 columns</p>\n",
       "</div>"
      ],
      "text/plain": [
       "     molecule_chembl_id                                   canonical_smiles  \\\n",
       "0          CHEMBL311039          CC12CCC(C1)C(C)(C)C2NS(=O)(=O)c1ccc(F)cc1   \n",
       "1          CHEMBL450926    CC12CC[C@@H](C1)C(C)(C)[C@@H]2NS(=O)(=O)c1cccs1   \n",
       "2          CHEMBL310242  CC12CC[C@@H](C1)C(C)(C)[C@@H]2NS(=O)(=O)c1ccc(...   \n",
       "3           CHEMBL74874  CC12CC[C@@H](C1)C(C)(C)[C@@H]2NS(=O)(=O)c1ccc(...   \n",
       "4           CHEMBL75183  CC12CC[C@@H](C1)C(C)(C)[C@@H]2NS(=O)(=O)c1ccc(...   \n",
       "...                 ...                                                ...   \n",
       "1183      CHEMBL5274298  COC(=O)c1cc(O)cc(OC)c1C(=O)c1c(O)cc(CO[C@H]2O[...   \n",
       "1184      CHEMBL5283067  COC(=O)c1c(Sc2c(O)cc(OC)c(C(=O)c3c(O)cc(C)cc3O...   \n",
       "1185      CHEMBL5273520  COC(=O)c1c(O)cc(C)c(Sc2c(O)cc(OC)c(Oc3c(O)cc(C...   \n",
       "1186      CHEMBL5282081  COC(=O)c1c(O)cc(C)cc1C(=O)c1cc(O)cc2oc3cc4c(c(...   \n",
       "1187      CHEMBL5274654  Cc1cc(O)c(C(=O)c2c(O)cc3c(c2O)C(=O)c2c(O)cc(C)...   \n",
       "\n",
       "             class       MW     LogP  NumHDonors  NumHAcceptors     pIC50  \n",
       "0     intermediate  311.422  3.31880         1.0            2.0  5.301030  \n",
       "1     intermediate  299.461  3.24120         1.0            3.0  5.568636  \n",
       "2     intermediate  311.422  3.31880         1.0            2.0  5.744727  \n",
       "3         inactive  327.877  3.83310         1.0            2.0  4.958607  \n",
       "4         inactive  372.328  3.94220         1.0            2.0  5.000000  \n",
       "...            ...      ...      ...         ...            ...       ...  \n",
       "1183  intermediate  510.448 -0.85390         7.0           13.0  5.987163  \n",
       "1184        active  680.640  4.43222         6.0           15.0  6.004365  \n",
       "1185        active  624.620  5.52076         7.0           13.0  7.000000  \n",
       "1186  intermediate  552.491  4.81824         4.0           10.0  5.806875  \n",
       "1187        active  556.479  3.48004         7.0           11.0  6.744727  \n",
       "\n",
       "[1188 rows x 8 columns]"
      ]
     },
     "execution_count": 20,
     "metadata": {},
     "output_type": "execute_result"
    }
   ],
   "source": [
    "df_final = pIC50(df_norm)\n",
    "df_final"
   ]
  },
  {
   "cell_type": "code",
   "execution_count": 21,
   "metadata": {
    "colab": {
     "base_uri": "https://localhost:8080/",
     "height": 170
    },
    "colab_type": "code",
    "id": "BoqY53udSTYC",
    "outputId": "13f3b5ff-acf5-4136-b8a3-f494066d4824"
   },
   "outputs": [
    {
     "data": {
      "text/plain": [
       "count    1187.000000\n",
       "mean        5.764696\n",
       "std         1.336165\n",
       "min         2.781202\n",
       "25%         4.765613\n",
       "50%         5.412289\n",
       "75%         6.744727\n",
       "max         9.522879\n",
       "Name: pIC50, dtype: float64"
      ]
     },
     "execution_count": 21,
     "metadata": {},
     "output_type": "execute_result"
    }
   ],
   "source": [
    "df_final.pIC50.describe()"
   ]
  },
  {
   "cell_type": "code",
   "execution_count": 22,
   "metadata": {},
   "outputs": [
    {
     "data": {
      "text/html": [
       "<div>\n",
       "<style scoped>\n",
       "    .dataframe tbody tr th:only-of-type {\n",
       "        vertical-align: middle;\n",
       "    }\n",
       "\n",
       "    .dataframe tbody tr th {\n",
       "        vertical-align: top;\n",
       "    }\n",
       "\n",
       "    .dataframe thead th {\n",
       "        text-align: right;\n",
       "    }\n",
       "</style>\n",
       "<table border=\"1\" class=\"dataframe\">\n",
       "  <thead>\n",
       "    <tr style=\"text-align: right;\">\n",
       "      <th></th>\n",
       "      <th>molecule_chembl_id</th>\n",
       "      <th>canonical_smiles</th>\n",
       "      <th>class</th>\n",
       "      <th>MW</th>\n",
       "      <th>LogP</th>\n",
       "      <th>NumHDonors</th>\n",
       "      <th>NumHAcceptors</th>\n",
       "      <th>pIC50</th>\n",
       "    </tr>\n",
       "  </thead>\n",
       "  <tbody>\n",
       "    <tr>\n",
       "      <th>0</th>\n",
       "      <td>CHEMBL311039</td>\n",
       "      <td>CC12CCC(C1)C(C)(C)C2NS(=O)(=O)c1ccc(F)cc1</td>\n",
       "      <td>intermediate</td>\n",
       "      <td>311.422</td>\n",
       "      <td>3.31880</td>\n",
       "      <td>1.0</td>\n",
       "      <td>2.0</td>\n",
       "      <td>5.301030</td>\n",
       "    </tr>\n",
       "    <tr>\n",
       "      <th>1</th>\n",
       "      <td>CHEMBL450926</td>\n",
       "      <td>CC12CC[C@@H](C1)C(C)(C)[C@@H]2NS(=O)(=O)c1cccs1</td>\n",
       "      <td>intermediate</td>\n",
       "      <td>299.461</td>\n",
       "      <td>3.24120</td>\n",
       "      <td>1.0</td>\n",
       "      <td>3.0</td>\n",
       "      <td>5.568636</td>\n",
       "    </tr>\n",
       "    <tr>\n",
       "      <th>2</th>\n",
       "      <td>CHEMBL310242</td>\n",
       "      <td>CC12CC[C@@H](C1)C(C)(C)[C@@H]2NS(=O)(=O)c1ccc(...</td>\n",
       "      <td>intermediate</td>\n",
       "      <td>311.422</td>\n",
       "      <td>3.31880</td>\n",
       "      <td>1.0</td>\n",
       "      <td>2.0</td>\n",
       "      <td>5.744727</td>\n",
       "    </tr>\n",
       "    <tr>\n",
       "      <th>3</th>\n",
       "      <td>CHEMBL74874</td>\n",
       "      <td>CC12CC[C@@H](C1)C(C)(C)[C@@H]2NS(=O)(=O)c1ccc(...</td>\n",
       "      <td>inactive</td>\n",
       "      <td>327.877</td>\n",
       "      <td>3.83310</td>\n",
       "      <td>1.0</td>\n",
       "      <td>2.0</td>\n",
       "      <td>4.958607</td>\n",
       "    </tr>\n",
       "    <tr>\n",
       "      <th>4</th>\n",
       "      <td>CHEMBL75183</td>\n",
       "      <td>CC12CC[C@@H](C1)C(C)(C)[C@@H]2NS(=O)(=O)c1ccc(...</td>\n",
       "      <td>inactive</td>\n",
       "      <td>372.328</td>\n",
       "      <td>3.94220</td>\n",
       "      <td>1.0</td>\n",
       "      <td>2.0</td>\n",
       "      <td>5.000000</td>\n",
       "    </tr>\n",
       "    <tr>\n",
       "      <th>...</th>\n",
       "      <td>...</td>\n",
       "      <td>...</td>\n",
       "      <td>...</td>\n",
       "      <td>...</td>\n",
       "      <td>...</td>\n",
       "      <td>...</td>\n",
       "      <td>...</td>\n",
       "      <td>...</td>\n",
       "    </tr>\n",
       "    <tr>\n",
       "      <th>1183</th>\n",
       "      <td>CHEMBL5274298</td>\n",
       "      <td>COC(=O)c1cc(O)cc(OC)c1C(=O)c1c(O)cc(CO[C@H]2O[...</td>\n",
       "      <td>intermediate</td>\n",
       "      <td>510.448</td>\n",
       "      <td>-0.85390</td>\n",
       "      <td>7.0</td>\n",
       "      <td>13.0</td>\n",
       "      <td>5.987163</td>\n",
       "    </tr>\n",
       "    <tr>\n",
       "      <th>1184</th>\n",
       "      <td>CHEMBL5283067</td>\n",
       "      <td>COC(=O)c1c(Sc2c(O)cc(OC)c(C(=O)c3c(O)cc(C)cc3O...</td>\n",
       "      <td>active</td>\n",
       "      <td>680.640</td>\n",
       "      <td>4.43222</td>\n",
       "      <td>6.0</td>\n",
       "      <td>15.0</td>\n",
       "      <td>6.004365</td>\n",
       "    </tr>\n",
       "    <tr>\n",
       "      <th>1185</th>\n",
       "      <td>CHEMBL5273520</td>\n",
       "      <td>COC(=O)c1c(O)cc(C)c(Sc2c(O)cc(OC)c(Oc3c(O)cc(C...</td>\n",
       "      <td>active</td>\n",
       "      <td>624.620</td>\n",
       "      <td>5.52076</td>\n",
       "      <td>7.0</td>\n",
       "      <td>13.0</td>\n",
       "      <td>7.000000</td>\n",
       "    </tr>\n",
       "    <tr>\n",
       "      <th>1186</th>\n",
       "      <td>CHEMBL5282081</td>\n",
       "      <td>COC(=O)c1c(O)cc(C)cc1C(=O)c1cc(O)cc2oc3cc4c(c(...</td>\n",
       "      <td>intermediate</td>\n",
       "      <td>552.491</td>\n",
       "      <td>4.81824</td>\n",
       "      <td>4.0</td>\n",
       "      <td>10.0</td>\n",
       "      <td>5.806875</td>\n",
       "    </tr>\n",
       "    <tr>\n",
       "      <th>1187</th>\n",
       "      <td>CHEMBL5274654</td>\n",
       "      <td>Cc1cc(O)c(C(=O)c2c(O)cc3c(c2O)C(=O)c2c(O)cc(C)...</td>\n",
       "      <td>active</td>\n",
       "      <td>556.479</td>\n",
       "      <td>3.48004</td>\n",
       "      <td>7.0</td>\n",
       "      <td>11.0</td>\n",
       "      <td>6.744727</td>\n",
       "    </tr>\n",
       "  </tbody>\n",
       "</table>\n",
       "<p>1187 rows × 8 columns</p>\n",
       "</div>"
      ],
      "text/plain": [
       "     molecule_chembl_id                                   canonical_smiles  \\\n",
       "0          CHEMBL311039          CC12CCC(C1)C(C)(C)C2NS(=O)(=O)c1ccc(F)cc1   \n",
       "1          CHEMBL450926    CC12CC[C@@H](C1)C(C)(C)[C@@H]2NS(=O)(=O)c1cccs1   \n",
       "2          CHEMBL310242  CC12CC[C@@H](C1)C(C)(C)[C@@H]2NS(=O)(=O)c1ccc(...   \n",
       "3           CHEMBL74874  CC12CC[C@@H](C1)C(C)(C)[C@@H]2NS(=O)(=O)c1ccc(...   \n",
       "4           CHEMBL75183  CC12CC[C@@H](C1)C(C)(C)[C@@H]2NS(=O)(=O)c1ccc(...   \n",
       "...                 ...                                                ...   \n",
       "1183      CHEMBL5274298  COC(=O)c1cc(O)cc(OC)c1C(=O)c1c(O)cc(CO[C@H]2O[...   \n",
       "1184      CHEMBL5283067  COC(=O)c1c(Sc2c(O)cc(OC)c(C(=O)c3c(O)cc(C)cc3O...   \n",
       "1185      CHEMBL5273520  COC(=O)c1c(O)cc(C)c(Sc2c(O)cc(OC)c(Oc3c(O)cc(C...   \n",
       "1186      CHEMBL5282081  COC(=O)c1c(O)cc(C)cc1C(=O)c1cc(O)cc2oc3cc4c(c(...   \n",
       "1187      CHEMBL5274654  Cc1cc(O)c(C(=O)c2c(O)cc3c(c2O)C(=O)c2c(O)cc(C)...   \n",
       "\n",
       "             class       MW     LogP  NumHDonors  NumHAcceptors     pIC50  \n",
       "0     intermediate  311.422  3.31880         1.0            2.0  5.301030  \n",
       "1     intermediate  299.461  3.24120         1.0            3.0  5.568636  \n",
       "2     intermediate  311.422  3.31880         1.0            2.0  5.744727  \n",
       "3         inactive  327.877  3.83310         1.0            2.0  4.958607  \n",
       "4         inactive  372.328  3.94220         1.0            2.0  5.000000  \n",
       "...            ...      ...      ...         ...            ...       ...  \n",
       "1183  intermediate  510.448 -0.85390         7.0           13.0  5.987163  \n",
       "1184        active  680.640  4.43222         6.0           15.0  6.004365  \n",
       "1185        active  624.620  5.52076         7.0           13.0  7.000000  \n",
       "1186  intermediate  552.491  4.81824         4.0           10.0  5.806875  \n",
       "1187        active  556.479  3.48004         7.0           11.0  6.744727  \n",
       "\n",
       "[1187 rows x 8 columns]"
      ]
     },
     "execution_count": 22,
     "metadata": {},
     "output_type": "execute_result"
    }
   ],
   "source": [
    "df_final[df_final.pIC50.notna()]"
   ]
  },
  {
   "cell_type": "markdown",
   "metadata": {
    "colab_type": "text",
    "id": "TTB-xkOcgwRX"
   },
   "source": [
    "Let's write this to CSV file."
   ]
  },
  {
   "cell_type": "code",
   "execution_count": 23,
   "metadata": {
    "colab": {},
    "colab_type": "code",
    "id": "sbZfHUSOgykw"
   },
   "outputs": [],
   "source": [
    "# df_final.to_csv('amyloid_04_bioactivity_data_3class_pIC50.csv')"
   ]
  },
  {
   "cell_type": "markdown",
   "metadata": {
    "colab_type": "text",
    "id": "05vHBWvqaQtb"
   },
   "source": [
    "### **Removing the 'intermediate' bioactivity class**\n",
    "The ``intermediate`` class was removed from the data set."
   ]
  },
  {
   "cell_type": "code",
   "execution_count": 24,
   "metadata": {
    "colab": {
     "base_uri": "https://localhost:8080/",
     "height": 419
    },
    "colab_type": "code",
    "id": "HmrndhDW3c7Z",
    "outputId": "dbc2255b-ed9c-460c-c12c-1795a735c9e7"
   },
   "outputs": [
    {
     "data": {
      "text/html": [
       "<div>\n",
       "<style scoped>\n",
       "    .dataframe tbody tr th:only-of-type {\n",
       "        vertical-align: middle;\n",
       "    }\n",
       "\n",
       "    .dataframe tbody tr th {\n",
       "        vertical-align: top;\n",
       "    }\n",
       "\n",
       "    .dataframe thead th {\n",
       "        text-align: right;\n",
       "    }\n",
       "</style>\n",
       "<table border=\"1\" class=\"dataframe\">\n",
       "  <thead>\n",
       "    <tr style=\"text-align: right;\">\n",
       "      <th></th>\n",
       "      <th>molecule_chembl_id</th>\n",
       "      <th>canonical_smiles</th>\n",
       "      <th>class</th>\n",
       "      <th>MW</th>\n",
       "      <th>LogP</th>\n",
       "      <th>NumHDonors</th>\n",
       "      <th>NumHAcceptors</th>\n",
       "      <th>pIC50</th>\n",
       "    </tr>\n",
       "  </thead>\n",
       "  <tbody>\n",
       "    <tr>\n",
       "      <th>3</th>\n",
       "      <td>CHEMBL74874</td>\n",
       "      <td>CC12CC[C@@H](C1)C(C)(C)[C@@H]2NS(=O)(=O)c1ccc(...</td>\n",
       "      <td>inactive</td>\n",
       "      <td>327.877</td>\n",
       "      <td>3.83310</td>\n",
       "      <td>1.0</td>\n",
       "      <td>2.0</td>\n",
       "      <td>4.958607</td>\n",
       "    </tr>\n",
       "    <tr>\n",
       "      <th>4</th>\n",
       "      <td>CHEMBL75183</td>\n",
       "      <td>CC12CC[C@@H](C1)C(C)(C)[C@@H]2NS(=O)(=O)c1ccc(...</td>\n",
       "      <td>inactive</td>\n",
       "      <td>372.328</td>\n",
       "      <td>3.94220</td>\n",
       "      <td>1.0</td>\n",
       "      <td>2.0</td>\n",
       "      <td>5.000000</td>\n",
       "    </tr>\n",
       "    <tr>\n",
       "      <th>5</th>\n",
       "      <td>CHEMBL563</td>\n",
       "      <td>CC(C(=O)O)c1ccc(-c2ccccc2)c(F)c1</td>\n",
       "      <td>inactive</td>\n",
       "      <td>244.265</td>\n",
       "      <td>3.68080</td>\n",
       "      <td>1.0</td>\n",
       "      <td>1.0</td>\n",
       "      <td>3.515700</td>\n",
       "    </tr>\n",
       "    <tr>\n",
       "      <th>6</th>\n",
       "      <td>CHEMBL196279</td>\n",
       "      <td>CC(C(=O)O)c1ccc(-c2ccc(Cl)c(Cl)c2)c(F)c1</td>\n",
       "      <td>inactive</td>\n",
       "      <td>313.155</td>\n",
       "      <td>4.98760</td>\n",
       "      <td>1.0</td>\n",
       "      <td>1.0</td>\n",
       "      <td>4.124939</td>\n",
       "    </tr>\n",
       "    <tr>\n",
       "      <th>7</th>\n",
       "      <td>CHEMBL195970</td>\n",
       "      <td>CC(C(=O)O)c1ccc(-c2cc(Cl)cc(Cl)c2)c(F)c1</td>\n",
       "      <td>inactive</td>\n",
       "      <td>313.155</td>\n",
       "      <td>4.98760</td>\n",
       "      <td>1.0</td>\n",
       "      <td>1.0</td>\n",
       "      <td>4.113509</td>\n",
       "    </tr>\n",
       "    <tr>\n",
       "      <th>...</th>\n",
       "      <td>...</td>\n",
       "      <td>...</td>\n",
       "      <td>...</td>\n",
       "      <td>...</td>\n",
       "      <td>...</td>\n",
       "      <td>...</td>\n",
       "      <td>...</td>\n",
       "      <td>...</td>\n",
       "    </tr>\n",
       "    <tr>\n",
       "      <th>1178</th>\n",
       "      <td>CHEMBL5290033</td>\n",
       "      <td>Cc1ccc(NCC[C@@H]2CCCN3CCCC[C@H]23)c2c(=O)c3ccc...</td>\n",
       "      <td>inactive</td>\n",
       "      <td>390.527</td>\n",
       "      <td>5.32112</td>\n",
       "      <td>1.0</td>\n",
       "      <td>4.0</td>\n",
       "      <td>4.886057</td>\n",
       "    </tr>\n",
       "    <tr>\n",
       "      <th>1179</th>\n",
       "      <td>CHEMBL5283881</td>\n",
       "      <td>CC(C)C[C@H](NC(=O)[C@H](Cc1ccccc1)C[C@@H](O)[C...</td>\n",
       "      <td>active</td>\n",
       "      <td>671.879</td>\n",
       "      <td>5.56660</td>\n",
       "      <td>4.0</td>\n",
       "      <td>6.0</td>\n",
       "      <td>7.318759</td>\n",
       "    </tr>\n",
       "    <tr>\n",
       "      <th>1184</th>\n",
       "      <td>CHEMBL5283067</td>\n",
       "      <td>COC(=O)c1c(Sc2c(O)cc(OC)c(C(=O)c3c(O)cc(C)cc3O...</td>\n",
       "      <td>active</td>\n",
       "      <td>680.640</td>\n",
       "      <td>4.43222</td>\n",
       "      <td>6.0</td>\n",
       "      <td>15.0</td>\n",
       "      <td>6.004365</td>\n",
       "    </tr>\n",
       "    <tr>\n",
       "      <th>1185</th>\n",
       "      <td>CHEMBL5273520</td>\n",
       "      <td>COC(=O)c1c(O)cc(C)c(Sc2c(O)cc(OC)c(Oc3c(O)cc(C...</td>\n",
       "      <td>active</td>\n",
       "      <td>624.620</td>\n",
       "      <td>5.52076</td>\n",
       "      <td>7.0</td>\n",
       "      <td>13.0</td>\n",
       "      <td>7.000000</td>\n",
       "    </tr>\n",
       "    <tr>\n",
       "      <th>1187</th>\n",
       "      <td>CHEMBL5274654</td>\n",
       "      <td>Cc1cc(O)c(C(=O)c2c(O)cc3c(c2O)C(=O)c2c(O)cc(C)...</td>\n",
       "      <td>active</td>\n",
       "      <td>556.479</td>\n",
       "      <td>3.48004</td>\n",
       "      <td>7.0</td>\n",
       "      <td>11.0</td>\n",
       "      <td>6.744727</td>\n",
       "    </tr>\n",
       "  </tbody>\n",
       "</table>\n",
       "<p>863 rows × 8 columns</p>\n",
       "</div>"
      ],
      "text/plain": [
       "     molecule_chembl_id                                   canonical_smiles  \\\n",
       "3           CHEMBL74874  CC12CC[C@@H](C1)C(C)(C)[C@@H]2NS(=O)(=O)c1ccc(...   \n",
       "4           CHEMBL75183  CC12CC[C@@H](C1)C(C)(C)[C@@H]2NS(=O)(=O)c1ccc(...   \n",
       "5             CHEMBL563                   CC(C(=O)O)c1ccc(-c2ccccc2)c(F)c1   \n",
       "6          CHEMBL196279           CC(C(=O)O)c1ccc(-c2ccc(Cl)c(Cl)c2)c(F)c1   \n",
       "7          CHEMBL195970           CC(C(=O)O)c1ccc(-c2cc(Cl)cc(Cl)c2)c(F)c1   \n",
       "...                 ...                                                ...   \n",
       "1178      CHEMBL5290033  Cc1ccc(NCC[C@@H]2CCCN3CCCC[C@H]23)c2c(=O)c3ccc...   \n",
       "1179      CHEMBL5283881  CC(C)C[C@H](NC(=O)[C@H](Cc1ccccc1)C[C@@H](O)[C...   \n",
       "1184      CHEMBL5283067  COC(=O)c1c(Sc2c(O)cc(OC)c(C(=O)c3c(O)cc(C)cc3O...   \n",
       "1185      CHEMBL5273520  COC(=O)c1c(O)cc(C)c(Sc2c(O)cc(OC)c(Oc3c(O)cc(C...   \n",
       "1187      CHEMBL5274654  Cc1cc(O)c(C(=O)c2c(O)cc3c(c2O)C(=O)c2c(O)cc(C)...   \n",
       "\n",
       "         class       MW     LogP  NumHDonors  NumHAcceptors     pIC50  \n",
       "3     inactive  327.877  3.83310         1.0            2.0  4.958607  \n",
       "4     inactive  372.328  3.94220         1.0            2.0  5.000000  \n",
       "5     inactive  244.265  3.68080         1.0            1.0  3.515700  \n",
       "6     inactive  313.155  4.98760         1.0            1.0  4.124939  \n",
       "7     inactive  313.155  4.98760         1.0            1.0  4.113509  \n",
       "...        ...      ...      ...         ...            ...       ...  \n",
       "1178  inactive  390.527  5.32112         1.0            4.0  4.886057  \n",
       "1179    active  671.879  5.56660         4.0            6.0  7.318759  \n",
       "1184    active  680.640  4.43222         6.0           15.0  6.004365  \n",
       "1185    active  624.620  5.52076         7.0           13.0  7.000000  \n",
       "1187    active  556.479  3.48004         7.0           11.0  6.744727  \n",
       "\n",
       "[863 rows x 8 columns]"
      ]
     },
     "execution_count": 24,
     "metadata": {},
     "output_type": "execute_result"
    }
   ],
   "source": [
    "df_2class = df_final[df_final['class'] != 'intermediate']\n",
    "df_2class"
   ]
  },
  {
   "cell_type": "markdown",
   "metadata": {
    "colab_type": "text",
    "id": "GJGRNXXigd1o"
   },
   "source": [
    "Let's write this to CSV file."
   ]
  },
  {
   "cell_type": "code",
   "execution_count": 25,
   "metadata": {
    "colab": {},
    "colab_type": "code",
    "id": "XIiYdeL5ghCo"
   },
   "outputs": [],
   "source": [
    "# df_2class.to_csv('amyloid_05_bioactivity_data_2class_pIC50.csv')"
   ]
  },
  {
   "cell_type": "markdown",
   "metadata": {
    "colab_type": "text",
    "id": "p9vA4-hQQ8sA"
   },
   "source": [
    "---"
   ]
  },
  {
   "cell_type": "markdown",
   "metadata": {
    "colab_type": "text",
    "id": "x0vqbQWfxsZu"
   },
   "source": [
    "## **Exploratory Data Analysis (Chemical Space Analysis) via Lipinski descriptors**"
   ]
  },
  {
   "cell_type": "markdown",
   "metadata": {
    "colab_type": "text",
    "id": "18heJagiyHoF"
   },
   "source": [
    "### **Import library**"
   ]
  },
  {
   "cell_type": "code",
   "execution_count": 26,
   "metadata": {
    "colab": {
     "base_uri": "https://localhost:8080/",
     "height": 51
    },
    "colab_type": "code",
    "id": "0Egq_rNsxtIj",
    "outputId": "33657ad8-3fcc-41cd-83ab-6f4f8c0a9e84"
   },
   "outputs": [],
   "source": [
    "import seaborn as sns\n",
    "sns.set(style='ticks')\n",
    "import matplotlib.pyplot as plt"
   ]
  },
  {
   "cell_type": "markdown",
   "metadata": {
    "colab_type": "text",
    "id": "NiarmFbOdG3H"
   },
   "source": [
    "### **Frequency plot of the 2 bioactivity classes**"
   ]
  },
  {
   "cell_type": "code",
   "execution_count": 27,
   "metadata": {
    "colab": {
     "base_uri": "https://localhost:8080/",
     "height": 367
    },
    "colab_type": "code",
    "id": "w2Ia0iycdMO2",
    "outputId": "fa37bcfd-af06-4e4b-c754-b6fb2b1b4f97"
   },
   "outputs": [
    {
     "data": {
      "text/plain": [
       "Text(0, 0.5, 'Frequency')"
      ]
     },
     "execution_count": 27,
     "metadata": {},
     "output_type": "execute_result"
    },
    {
     "data": {
      "image/png": "[encoded data removed]",
      "text/plain": [
       "<Figure size 550x550 with 1 Axes>"
      ]
     },
     "metadata": {},
     "output_type": "display_data"
    }
   ],
   "source": [
    "plt.figure(figsize=(5.5, 5.5))\n",
    "\n",
    "sns.countplot(x='class', data=df_2class, edgecolor='black')\n",
    "\n",
    "plt.xlabel('Bioactivity class', fontsize=14, fontweight='bold')\n",
    "plt.ylabel('Frequency', fontsize=14, fontweight='bold')\n",
    "\n",
    "#plt.savefig('plot_bioactivity_class.pdf')"
   ]
  },
  {
   "cell_type": "markdown",
   "metadata": {
    "colab_type": "text",
    "id": "wB68NKVG0j68"
   },
   "source": [
    "### **Scatter plot of MW versus LogP**\n",
    "\n",
    "It can be seen that the 2 bioactivity classes are spanning similar chemical spaces as evident by the scatter plot of MW vs LogP."
   ]
  },
  {
   "cell_type": "code",
   "execution_count": 28,
   "metadata": {
    "colab": {
     "base_uri": "https://localhost:8080/",
     "height": 367
    },
    "colab_type": "code",
    "id": "F79BNwjF0nub",
    "outputId": "a80f9843-848a-4eb0-ff78-e9473d5d2d4b"
   },
   "outputs": [
    {
     "data": {
      "text/plain": [
       "<matplotlib.legend.Legend at 0x15416b460>"
      ]
     },
     "execution_count": 28,
     "metadata": {},
     "output_type": "execute_result"
    },
    {
     "data": {
      "image/png": "[encoded data removed]",
      "text/plain": [
       "<Figure size 550x550 with 1 Axes>"
      ]
     },
     "metadata": {},
     "output_type": "display_data"
    }
   ],
   "source": [
    "plt.figure(figsize=(5.5, 5.5))\n",
    "\n",
    "sns.scatterplot(x='MW', y='LogP', data=df_2class, hue='class', size='pIC50', edgecolor='black', alpha=0.7)\n",
    "\n",
    "plt.xlabel('MW', fontsize=14, fontweight='bold')\n",
    "plt.ylabel('LogP', fontsize=14, fontweight='bold')\n",
    "plt.legend(bbox_to_anchor=(1.05, 1), loc=2, borderaxespad=0)\n",
    "#plt.savefig('plot_MW_vs_LogP.pdf')"
   ]
  },
  {
   "cell_type": "markdown",
   "metadata": {
    "colab_type": "text",
    "id": "oLAfyRwHyJfX"
   },
   "source": [
    "### **Box plots**"
   ]
  },
  {
   "cell_type": "markdown",
   "metadata": {
    "colab_type": "text",
    "id": "1n1uIAivyOkY"
   },
   "source": [
    "#### **pIC50 value**"
   ]
  },
  {
   "cell_type": "code",
   "execution_count": 29,
   "metadata": {
    "colab": {
     "base_uri": "https://localhost:8080/",
     "height": 367
    },
    "colab_type": "code",
    "id": "EpPviw0hxue6",
    "outputId": "a6386fee-ae04-4bf0-93cb-c95bcf801432"
   },
   "outputs": [
    {
     "data": {
      "text/plain": [
       "Text(0, 0.5, 'pIC50 value')"
      ]
     },
     "execution_count": 29,
     "metadata": {},
     "output_type": "execute_result"
    },
    {
     "data": {
      "image/png": "[encoded data removed]",
      "text/plain": [
       "<Figure size 550x550 with 1 Axes>"
      ]
     },
     "metadata": {},
     "output_type": "display_data"
    }
   ],
   "source": [
    "plt.figure(figsize=(5.5, 5.5))\n",
    "\n",
    "sns.boxplot(x = 'class', y = 'pIC50', data = df_2class)\n",
    "\n",
    "plt.xlabel('Bioactivity class', fontsize=14, fontweight='bold')\n",
    "plt.ylabel('pIC50 value', fontsize=14, fontweight='bold')\n",
    "\n",
    "#plt.savefig('plot_ic50.pdf')"
   ]
  },
  {
   "cell_type": "markdown",
   "metadata": {
    "colab_type": "text",
    "id": "PsOqKyysCZCv"
   },
   "source": [
    "**Statistical analysis | Mann-Whitney U Test**"
   ]
  },
  {
   "cell_type": "code",
   "execution_count": 30,
   "metadata": {
    "colab": {},
    "colab_type": "code",
    "id": "LPdV1vDnWBsh"
   },
   "outputs": [],
   "source": [
    "def mannwhitney(descriptor, verbose=False):\n",
    "  # https://machinelearningmastery.com/nonparametric-statistical-significance-tests-in-python/\n",
    "  from numpy.random import seed\n",
    "  from numpy.random import randn\n",
    "  from scipy.stats import mannwhitneyu\n",
    "\n",
    "# seed the random number generator\n",
    "  seed(42)\n",
    "\n",
    "# actives and inactives\n",
    "  selection = [descriptor, 'class']\n",
    "  df = df_2class[selection]\n",
    "  active = df[df['class'] == 'active']\n",
    "  active = active[descriptor]\n",
    "\n",
    "  selection = [descriptor, 'class']\n",
    "  df = df_2class[selection]\n",
    "  inactive = df[df['class'] == 'inactive']\n",
    "  inactive = inactive[descriptor]\n",
    "\n",
    "# compare samples\n",
    "  stat, p = mannwhitneyu(active, inactive)\n",
    "  #print('Statistics=%.3f, p=%.3f' % (stat, p))\n",
    "\n",
    "# interpret\n",
    "  alpha = 0.05\n",
    "  if p > alpha:\n",
    "    interpretation = 'Same distribution (fail to reject H0)'\n",
    "  else:\n",
    "    interpretation = 'Different distribution (reject H0)'\n",
    "  \n",
    "  results = pd.DataFrame({'Descriptor':descriptor,\n",
    "                          'Statistics':stat,\n",
    "                          'p':p,\n",
    "                          'alpha':alpha,\n",
    "                          'Interpretation':interpretation}, index=[0])\n",
    "  filename = 'mannwhitneyu_' + descriptor + '.csv'\n",
    "  # results.to_csv(filename)\n",
    "\n",
    "  return results"
   ]
  },
  {
   "cell_type": "code",
   "execution_count": 40,
   "metadata": {
    "colab": {
     "base_uri": "https://localhost:8080/",
     "height": 80
    },
    "colab_type": "code",
    "id": "HZmUgOmdYVm5",
    "outputId": "3a9ba656-596c-434a-e52f-5696325cd4e7"
   },
   "outputs": [
    {
     "data": {
      "text/html": [
       "<div>\n",
       "<style scoped>\n",
       "    .dataframe tbody tr th:only-of-type {\n",
       "        vertical-align: middle;\n",
       "    }\n",
       "\n",
       "    .dataframe tbody tr th {\n",
       "        vertical-align: top;\n",
       "    }\n",
       "\n",
       "    .dataframe thead th {\n",
       "        text-align: right;\n",
       "    }\n",
       "</style>\n",
       "<table border=\"1\" class=\"dataframe\">\n",
       "  <thead>\n",
       "    <tr style=\"text-align: right;\">\n",
       "      <th></th>\n",
       "      <th>Descriptor</th>\n",
       "      <th>Statistics</th>\n",
       "      <th>p</th>\n",
       "      <th>alpha</th>\n",
       "      <th>Interpretation</th>\n",
       "    </tr>\n",
       "  </thead>\n",
       "  <tbody>\n",
       "    <tr>\n",
       "      <th>0</th>\n",
       "      <td>pIC50</td>\n",
       "      <td>NaN</td>\n",
       "      <td>NaN</td>\n",
       "      <td>0.05</td>\n",
       "      <td>Different distribution (reject H0)</td>\n",
       "    </tr>\n",
       "  </tbody>\n",
       "</table>\n",
       "</div>"
      ],
      "text/plain": [
       "  Descriptor  Statistics   p  alpha                      Interpretation\n",
       "0      pIC50         NaN NaN   0.05  Different distribution (reject H0)"
      ]
     },
     "execution_count": 40,
     "metadata": {},
     "output_type": "execute_result"
    }
   ],
   "source": [
    "mannwhitney('pIC50')"
   ]
  },
  {
   "cell_type": "markdown",
   "metadata": {
    "colab_type": "text",
    "id": "o2UlCwPmyTBq"
   },
   "source": [
    "#### **MW**"
   ]
  },
  {
   "cell_type": "code",
   "execution_count": 32,
   "metadata": {
    "colab": {
     "base_uri": "https://localhost:8080/",
     "height": 370
    },
    "colab_type": "code",
    "id": "ZNlEEsDEx3m6",
    "outputId": "819f291c-d893-4ff6-f4ca-28b46351e999"
   },
   "outputs": [
    {
     "data": {
      "text/plain": [
       "Text(0, 0.5, 'MW')"
      ]
     },
     "execution_count": 32,
     "metadata": {},
     "output_type": "execute_result"
    },
    {
     "data": {
      "image/png": "[encoded data removed]",
      "text/plain": [
       "<Figure size 550x550 with 1 Axes>"
      ]
     },
     "metadata": {},
     "output_type": "display_data"
    }
   ],
   "source": [
    "plt.figure(figsize=(5.5, 5.5))\n",
    "\n",
    "sns.boxplot(x = 'class', y = 'MW', data = df_2class)\n",
    "\n",
    "plt.xlabel('Bioactivity class', fontsize=14, fontweight='bold')\n",
    "plt.ylabel('MW', fontsize=14, fontweight='bold')\n",
    "\n",
    "#plt.savefig('plot_MW.pdf')"
   ]
  },
  {
   "cell_type": "code",
   "execution_count": 33,
   "metadata": {
    "colab": {
     "base_uri": "https://localhost:8080/",
     "height": 80
    },
    "colab_type": "code",
    "id": "wRl2FvgHYqaG",
    "outputId": "01f76db8-fdaf-40af-9161-888f5065b07b"
   },
   "outputs": [
    {
     "data": {
      "text/html": [
       "<div>\n",
       "<style scoped>\n",
       "    .dataframe tbody tr th:only-of-type {\n",
       "        vertical-align: middle;\n",
       "    }\n",
       "\n",
       "    .dataframe tbody tr th {\n",
       "        vertical-align: top;\n",
       "    }\n",
       "\n",
       "    .dataframe thead th {\n",
       "        text-align: right;\n",
       "    }\n",
       "</style>\n",
       "<table border=\"1\" class=\"dataframe\">\n",
       "  <thead>\n",
       "    <tr style=\"text-align: right;\">\n",
       "      <th></th>\n",
       "      <th>Descriptor</th>\n",
       "      <th>Statistics</th>\n",
       "      <th>p</th>\n",
       "      <th>alpha</th>\n",
       "      <th>Interpretation</th>\n",
       "    </tr>\n",
       "  </thead>\n",
       "  <tbody>\n",
       "    <tr>\n",
       "      <th>0</th>\n",
       "      <td>MW</td>\n",
       "      <td>119998.0</td>\n",
       "      <td>2.017137e-13</td>\n",
       "      <td>0.05</td>\n",
       "      <td>Different distribution (reject H0)</td>\n",
       "    </tr>\n",
       "  </tbody>\n",
       "</table>\n",
       "</div>"
      ],
      "text/plain": [
       "  Descriptor  Statistics             p  alpha  \\\n",
       "0         MW    119998.0  2.017137e-13   0.05   \n",
       "\n",
       "                       Interpretation  \n",
       "0  Different distribution (reject H0)  "
      ]
     },
     "execution_count": 33,
     "metadata": {},
     "output_type": "execute_result"
    }
   ],
   "source": [
    "mannwhitney('MW')"
   ]
  },
  {
   "cell_type": "markdown",
   "metadata": {
    "colab_type": "text",
    "id": "z5hyBhGqyc6J"
   },
   "source": [
    "#### **LogP**"
   ]
  },
  {
   "cell_type": "code",
   "execution_count": 34,
   "metadata": {
    "colab": {
     "base_uri": "https://localhost:8080/",
     "height": 367
    },
    "colab_type": "code",
    "id": "liEtkpI4yX9t",
    "outputId": "63ed7b14-b112-44d5-8f0d-8fe017ec0d43"
   },
   "outputs": [
    {
     "data": {
      "text/plain": [
       "Text(0, 0.5, 'LogP')"
      ]
     },
     "execution_count": 34,
     "metadata": {},
     "output_type": "execute_result"
    },
    {
     "data": {
      "image/png": "[encoded data removed]",
      "text/plain": [
       "<Figure size 550x550 with 1 Axes>"
      ]
     },
     "metadata": {},
     "output_type": "display_data"
    }
   ],
   "source": [
    "plt.figure(figsize=(5.5, 5.5))\n",
    "\n",
    "sns.boxplot(x = 'class', y = 'LogP', data = df_2class)\n",
    "\n",
    "plt.xlabel('Bioactivity class', fontsize=14, fontweight='bold')\n",
    "plt.ylabel('LogP', fontsize=14, fontweight='bold')\n",
    "\n",
    "#plt.savefig('plot_LogP.pdf')"
   ]
  },
  {
   "cell_type": "markdown",
   "metadata": {
    "colab_type": "text",
    "id": "2KgV5v_oFLXh"
   },
   "source": [
    "**Statistical analysis | Mann-Whitney U Test**"
   ]
  },
  {
   "cell_type": "code",
   "execution_count": 35,
   "metadata": {
    "colab": {
     "base_uri": "https://localhost:8080/",
     "height": 80
    },
    "colab_type": "code",
    "id": "B61UsGMIFLuE",
    "outputId": "3fd097e7-7a4a-4c6e-bc0c-af010caac7b2"
   },
   "outputs": [
    {
     "data": {
      "text/html": [
       "<div>\n",
       "<style scoped>\n",
       "    .dataframe tbody tr th:only-of-type {\n",
       "        vertical-align: middle;\n",
       "    }\n",
       "\n",
       "    .dataframe tbody tr th {\n",
       "        vertical-align: top;\n",
       "    }\n",
       "\n",
       "    .dataframe thead th {\n",
       "        text-align: right;\n",
       "    }\n",
       "</style>\n",
       "<table border=\"1\" class=\"dataframe\">\n",
       "  <thead>\n",
       "    <tr style=\"text-align: right;\">\n",
       "      <th></th>\n",
       "      <th>Descriptor</th>\n",
       "      <th>Statistics</th>\n",
       "      <th>p</th>\n",
       "      <th>alpha</th>\n",
       "      <th>Interpretation</th>\n",
       "    </tr>\n",
       "  </thead>\n",
       "  <tbody>\n",
       "    <tr>\n",
       "      <th>0</th>\n",
       "      <td>LogP</td>\n",
       "      <td>98977.5</td>\n",
       "      <td>0.108164</td>\n",
       "      <td>0.05</td>\n",
       "      <td>Same distribution (fail to reject H0)</td>\n",
       "    </tr>\n",
       "  </tbody>\n",
       "</table>\n",
       "</div>"
      ],
      "text/plain": [
       "  Descriptor  Statistics         p  alpha  \\\n",
       "0       LogP     98977.5  0.108164   0.05   \n",
       "\n",
       "                          Interpretation  \n",
       "0  Same distribution (fail to reject H0)  "
      ]
     },
     "execution_count": 35,
     "metadata": {},
     "output_type": "execute_result"
    }
   ],
   "source": [
    "mannwhitney('LogP')"
   ]
  },
  {
   "cell_type": "markdown",
   "metadata": {
    "colab_type": "text",
    "id": "4db7LZLRym2k"
   },
   "source": [
    "#### **NumHDonors**"
   ]
  },
  {
   "cell_type": "code",
   "execution_count": 36,
   "metadata": {
    "colab": {
     "base_uri": "https://localhost:8080/",
     "height": 367
    },
    "colab_type": "code",
    "id": "iru1JPM1yg5A",
    "outputId": "838b8622-b34a-4f93-bec1-9df19fc9f571"
   },
   "outputs": [
    {
     "data": {
      "text/plain": [
       "Text(0, 0.5, 'NumHDonors')"
      ]
     },
     "execution_count": 36,
     "metadata": {},
     "output_type": "execute_result"
    },
    {
     "data": {
      "image/png": "[encoded data removed]",
      "text/plain": [
       "<Figure size 550x550 with 1 Axes>"
      ]
     },
     "metadata": {},
     "output_type": "display_data"
    }
   ],
   "source": [
    "plt.figure(figsize=(5.5, 5.5))\n",
    "\n",
    "sns.boxplot(x = 'class', y = 'NumHDonors', data = df_2class)\n",
    "\n",
    "plt.xlabel('Bioactivity class', fontsize=14, fontweight='bold')\n",
    "plt.ylabel('NumHDonors', fontsize=14, fontweight='bold')\n",
    "\n",
    "#plt.savefig('plot_NumHDonors.pdf')"
   ]
  },
  {
   "cell_type": "markdown",
   "metadata": {
    "colab_type": "text",
    "id": "vM5vZWanFe3c"
   },
   "source": [
    "**Statistical analysis | Mann-Whitney U Test**"
   ]
  },
  {
   "cell_type": "code",
   "execution_count": 37,
   "metadata": {
    "colab": {
     "base_uri": "https://localhost:8080/",
     "height": 80
    },
    "colab_type": "code",
    "id": "mS-rOqq7Fd1E",
    "outputId": "d6e88523-ae95-4298-8550-f840fd8b5a36"
   },
   "outputs": [
    {
     "data": {
      "text/html": [
       "<div>\n",
       "<style scoped>\n",
       "    .dataframe tbody tr th:only-of-type {\n",
       "        vertical-align: middle;\n",
       "    }\n",
       "\n",
       "    .dataframe tbody tr th {\n",
       "        vertical-align: top;\n",
       "    }\n",
       "\n",
       "    .dataframe thead th {\n",
       "        text-align: right;\n",
       "    }\n",
       "</style>\n",
       "<table border=\"1\" class=\"dataframe\">\n",
       "  <thead>\n",
       "    <tr style=\"text-align: right;\">\n",
       "      <th></th>\n",
       "      <th>Descriptor</th>\n",
       "      <th>Statistics</th>\n",
       "      <th>p</th>\n",
       "      <th>alpha</th>\n",
       "      <th>Interpretation</th>\n",
       "    </tr>\n",
       "  </thead>\n",
       "  <tbody>\n",
       "    <tr>\n",
       "      <th>0</th>\n",
       "      <td>NumHDonors</td>\n",
       "      <td>75564.0</td>\n",
       "      <td>7.287576e-07</td>\n",
       "      <td>0.05</td>\n",
       "      <td>Different distribution (reject H0)</td>\n",
       "    </tr>\n",
       "  </tbody>\n",
       "</table>\n",
       "</div>"
      ],
      "text/plain": [
       "   Descriptor  Statistics             p  alpha  \\\n",
       "0  NumHDonors     75564.0  7.287576e-07   0.05   \n",
       "\n",
       "                       Interpretation  \n",
       "0  Different distribution (reject H0)  "
      ]
     },
     "execution_count": 37,
     "metadata": {},
     "output_type": "execute_result"
    }
   ],
   "source": [
    "mannwhitney('NumHDonors')"
   ]
  },
  {
   "cell_type": "markdown",
   "metadata": {
    "colab_type": "text",
    "id": "yOYQ3QiSyu7-"
   },
   "source": [
    "#### **NumHAcceptors**"
   ]
  },
  {
   "cell_type": "code",
   "execution_count": 38,
   "metadata": {
    "colab": {
     "base_uri": "https://localhost:8080/",
     "height": 367
    },
    "colab_type": "code",
    "id": "yCw6tgNCyxHf",
    "outputId": "3de01d96-1e31-4f95-8084-907f15901106"
   },
   "outputs": [
    {
     "data": {
      "text/plain": [
       "Text(0, 0.5, 'NumHAcceptors')"
      ]
     },
     "execution_count": 38,
     "metadata": {},
     "output_type": "execute_result"
    },
    {
     "data": {
      "image/png": "[encoded data removed]",
      "text/plain": [
       "<Figure size 550x550 with 1 Axes>"
      ]
     },
     "metadata": {},
     "output_type": "display_data"
    }
   ],
   "source": [
    "plt.figure(figsize=(5.5, 5.5))\n",
    "\n",
    "sns.boxplot(x = 'class', y = 'NumHAcceptors', data = df_2class)\n",
    "\n",
    "plt.xlabel('Bioactivity class', fontsize=14, fontweight='bold')\n",
    "plt.ylabel('NumHAcceptors', fontsize=14, fontweight='bold')\n",
    "\n",
    "#plt.savefig('plot_NumHAcceptors.pdf')"
   ]
  },
  {
   "cell_type": "code",
   "execution_count": 39,
   "metadata": {
    "colab": {
     "base_uri": "https://localhost:8080/",
     "height": 80
    },
    "colab_type": "code",
    "id": "NEQoDZctFtGG",
    "outputId": "417d0d17-81f6-438f-dae4-70083b319b85"
   },
   "outputs": [
    {
     "data": {
      "text/html": [
       "<div>\n",
       "<style scoped>\n",
       "    .dataframe tbody tr th:only-of-type {\n",
       "        vertical-align: middle;\n",
       "    }\n",
       "\n",
       "    .dataframe tbody tr th {\n",
       "        vertical-align: top;\n",
       "    }\n",
       "\n",
       "    .dataframe thead th {\n",
       "        text-align: right;\n",
       "    }\n",
       "</style>\n",
       "<table border=\"1\" class=\"dataframe\">\n",
       "  <thead>\n",
       "    <tr style=\"text-align: right;\">\n",
       "      <th></th>\n",
       "      <th>Descriptor</th>\n",
       "      <th>Statistics</th>\n",
       "      <th>p</th>\n",
       "      <th>alpha</th>\n",
       "      <th>Interpretation</th>\n",
       "    </tr>\n",
       "  </thead>\n",
       "  <tbody>\n",
       "    <tr>\n",
       "      <th>0</th>\n",
       "      <td>NumHAcceptors</td>\n",
       "      <td>118578.0</td>\n",
       "      <td>1.645117e-12</td>\n",
       "      <td>0.05</td>\n",
       "      <td>Different distribution (reject H0)</td>\n",
       "    </tr>\n",
       "  </tbody>\n",
       "</table>\n",
       "</div>"
      ],
      "text/plain": [
       "      Descriptor  Statistics             p  alpha  \\\n",
       "0  NumHAcceptors    118578.0  1.645117e-12   0.05   \n",
       "\n",
       "                       Interpretation  \n",
       "0  Different distribution (reject H0)  "
      ]
     },
     "execution_count": 39,
     "metadata": {},
     "output_type": "execute_result"
    }
   ],
   "source": [
    "mannwhitney('NumHAcceptors')"
   ]
  },
  {
   "cell_type": "markdown",
   "metadata": {
    "colab_type": "text",
    "id": "p4QjdHVjKYum"
   },
   "source": [
    "#### **Interpretation of Statistical Results**"
   ]
  },
  {
   "cell_type": "markdown",
   "metadata": {
    "colab_type": "text",
    "id": "mSoOBIqfLbDs"
   },
   "source": [
    "##### **Box Plots**\n",
    "\n",
    "###### **pIC50 values**\n",
    "\n",
    "Taking a look at pIC50 values, the **actives** and **inactives** displayed ***statistically significant difference***, which is to be expected since threshold values (``IC50 < 1,000 nM = Actives while IC50 > 10,000 nM = Inactives``, corresponding to ``pIC50 > 6 = Actives and pIC50 < 5 = Inactives``) were used to define actives and inactives.\n",
    "\n",
    "###### **Lipinski's descriptors**\n",
    "\n",
    "Besides the LogP, the remaining Lipinski's descriptors exhibited ***statistically significant difference*** between the **actives** and **inactives**."
   ]
  }
 ],
 "metadata": {
  "colab": {
   "collapsed_sections": [],
   "name": "CDD-ML-Part-2-Exploratory-Data-Analysis-Acetylcholinesterase.ipynb",
   "provenance": []
  },
  "kernelspec": {
   "display_name": "Python 3 (ipykernel)",
   "language": "python",
   "name": "python3"
  },
  "language_info": {
   "codemirror_mode": {
    "name": "ipython",
    "version": 3
   },
   "file_extension": ".py",
   "mimetype": "text/x-python",
   "name": "python",
   "nbconvert_exporter": "python",
   "pygments_lexer": "ipython3",
   "version": "3.10.9"
  }
 },
 "nbformat": 4,
 "nbformat_minor": 1
}
