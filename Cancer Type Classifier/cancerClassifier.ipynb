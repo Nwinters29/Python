{
 "cells": [
  {
   "cell_type": "markdown",
   "id": "90cc606c",
   "metadata": {},
   "source": [
    "# Cancer Type Predictor\n",
    "\n",
    "This project aims to construct a machine learning classifier that can predict the cancer type based on gene expression data from patients with different types of cancer: BRCA, KIRK, COAD, LUAD, and PRAD.\n",
    "\n",
    "The data comes from the __[UC Irvine Machine Learning Repository](https://archive.ics.uci.edu/dataset/401/gene+expression+cancer+rna+seq)__. The expression data was obtained from an RNA-Seq (HiSeq) PANCAN experiment. "
   ]
  },
  {
   "cell_type": "markdown",
   "id": "cdc01891",
   "metadata": {},
   "source": [
    "## Library Import"
   ]
  },
  {
   "cell_type": "code",
   "execution_count": 62,
   "id": "d038d1e6",
   "metadata": {},
   "outputs": [],
   "source": [
    "# Import Libraries\n",
    "\n",
    "# Data Manipulation\n",
    "import pandas as pd\n",
    "import numpy as np\n",
    "\n",
    "# Data Visualization\n",
    "import matplotlib.pyplot as plt\n",
    "import seaborn as sns\n",
    "\n",
    "# Machine Learning - preprocessing\n",
    "from sklearn.model_selection import train_test_split\n",
    "from sklearn.preprocessing import LabelEncoder\n",
    "from sklearn.preprocessing import label_binarize\n",
    "from sklearn.preprocessing import MinMaxScaler\n",
    "\n",
    "# Machine Learning - feature selection\n",
    "from sklearn.feature_selection import mutual_info_classif\n",
    "\n",
    "# Machine Learning - models\n",
    "from sklearn.ensemble import RandomForestClassifier\n",
    "from sklearn.multiclass import OneVsRestClassifier\n",
    "\n",
    "# Machine Learning - evaluation\n",
    "from sklearn.metrics import classification_report\n",
    "from sklearn.metrics import balanced_accuracy_score, f1_score, precision_score, recall_score\n",
    "from sklearn.metrics import roc_auc_score, roc_curve, auc\n",
    "from sklearn.metrics import confusion_matrix"
   ]
  },
  {
   "cell_type": "markdown",
   "id": "45ef7121",
   "metadata": {},
   "source": [
    "## Data Import"
   ]
  },
  {
   "cell_type": "code",
   "execution_count": null,
   "id": "c8e9a66a",
   "metadata": {},
   "outputs": [],
   "source": [
    "# Retrieving feature data\n",
    "filepath = '/Users/nickwinters/desktop/DS_Projects/Python/Bioinformatics/MLcancerPred/TCGA-PANCAN-HiSeq-801x20531/data.csv'\n",
    "data = pd.read_csv(filepath)"
   ]
  },
  {
   "cell_type": "code",
   "execution_count": null,
   "id": "96976229",
   "metadata": {},
   "outputs": [],
   "source": [
    "# Retrieving label data\n",
    "filepath2 = '/Users/nickwinters/desktop/DS_Projects/Python/Bioinformatics/MLcancerPred/TCGA-PANCAN-HiSeq-801x20531/labels.csv'\n",
    "labels = pd.read_csv(filepath2)"
   ]
  },
  {
   "cell_type": "code",
   "execution_count": null,
   "id": "5ea1a9b8",
   "metadata": {},
   "outputs": [
    {
     "name": "stdout",
     "output_type": "stream",
     "text": [
      "  Unnamed: 0  gene_0    gene_1    gene_2    gene_3     gene_4  gene_5  \\\n",
      "0   sample_0     0.0  2.017209  3.265527  5.478487  10.431999     0.0   \n",
      "1   sample_1     0.0  0.592732  1.588421  7.586157   9.623011     0.0   \n",
      "2   sample_2     0.0  3.511759  4.327199  6.881787   9.870730     0.0   \n",
      "3   sample_3     0.0  3.663618  4.507649  6.659068  10.196184     0.0   \n",
      "4   sample_4     0.0  2.655741  2.821547  6.539454   9.738265     0.0   \n",
      "\n",
      "     gene_6    gene_7  gene_8  ...  gene_20521  gene_20522  gene_20523  \\\n",
      "0  7.175175  0.591871     0.0  ...    4.926711    8.210257    9.723516   \n",
      "1  6.816049  0.000000     0.0  ...    4.593372    7.323865    9.740931   \n",
      "2  6.972130  0.452595     0.0  ...    5.125213    8.127123   10.908640   \n",
      "3  7.843375  0.434882     0.0  ...    6.076566    8.792959   10.141520   \n",
      "4  6.566967  0.360982     0.0  ...    5.996032    8.891425   10.373790   \n",
      "\n",
      "   gene_20524  gene_20525  gene_20526  gene_20527  gene_20528  gene_20529  \\\n",
      "0    7.220030    9.119813   12.003135    9.650743    8.921326    5.286759   \n",
      "1    6.256586    8.381612   12.674552   10.517059    9.397854    2.094168   \n",
      "2    5.401607    9.911597    9.045255    9.788359   10.090470    1.683023   \n",
      "3    8.942805    9.601208   11.392682    9.694814    9.684365    3.292001   \n",
      "4    7.181162    9.846910   11.922439    9.217749    9.461191    5.110372   \n",
      "\n",
      "   gene_20530  \n",
      "0         0.0  \n",
      "1         0.0  \n",
      "2         0.0  \n",
      "3         0.0  \n",
      "4         0.0  \n",
      "\n",
      "[5 rows x 20532 columns]\n"
     ]
    }
   ],
   "source": [
    "# viewing the first few rows of the data\n",
    "print(data.head())"
   ]
  },
  {
   "cell_type": "code",
   "execution_count": null,
   "id": "09a48aae",
   "metadata": {},
   "outputs": [
    {
     "name": "stdout",
     "output_type": "stream",
     "text": [
      "  Unnamed: 0 Class\n",
      "0   sample_0  PRAD\n",
      "1   sample_1  LUAD\n",
      "2   sample_2  PRAD\n",
      "3   sample_3  PRAD\n",
      "4   sample_4  BRCA\n"
     ]
    }
   ],
   "source": [
    "# viewing the first few rows of the labels\n",
    "print(labels.head())"
   ]
  },
  {
   "cell_type": "markdown",
   "id": "4f3702d6",
   "metadata": {},
   "source": [
    "## Data Processing"
   ]
  },
  {
   "cell_type": "code",
   "execution_count": null,
   "id": "291854d4",
   "metadata": {},
   "outputs": [
    {
     "name": "stdout",
     "output_type": "stream",
     "text": [
      "  Class\n",
      "0  PRAD\n",
      "1  LUAD\n",
      "2  PRAD\n",
      "3  PRAD\n",
      "4  BRCA\n"
     ]
    }
   ],
   "source": [
    "# Cleaning the data by removing unnecessary columns\n",
    "cleaned_labs = labels.drop(columns=['Unnamed: 0'])\n",
    "print(cleaned_labs.head())"
   ]
  },
  {
   "cell_type": "code",
   "execution_count": null,
   "id": "75aaf8d3",
   "metadata": {},
   "outputs": [
    {
     "name": "stdout",
     "output_type": "stream",
     "text": [
      "   gene_0    gene_1    gene_2    gene_3     gene_4  gene_5    gene_6  \\\n",
      "0     0.0  2.017209  3.265527  5.478487  10.431999     0.0  7.175175   \n",
      "1     0.0  0.592732  1.588421  7.586157   9.623011     0.0  6.816049   \n",
      "2     0.0  3.511759  4.327199  6.881787   9.870730     0.0  6.972130   \n",
      "3     0.0  3.663618  4.507649  6.659068  10.196184     0.0  7.843375   \n",
      "4     0.0  2.655741  2.821547  6.539454   9.738265     0.0  6.566967   \n",
      "\n",
      "     gene_7  gene_8  gene_9  ...  gene_20522  gene_20523  gene_20524  \\\n",
      "0  0.591871     0.0     0.0  ...    8.210257    9.723516    7.220030   \n",
      "1  0.000000     0.0     0.0  ...    7.323865    9.740931    6.256586   \n",
      "2  0.452595     0.0     0.0  ...    8.127123   10.908640    5.401607   \n",
      "3  0.434882     0.0     0.0  ...    8.792959   10.141520    8.942805   \n",
      "4  0.360982     0.0     0.0  ...    8.891425   10.373790    7.181162   \n",
      "\n",
      "   gene_20525  gene_20526  gene_20527  gene_20528  gene_20529  gene_20530  \\\n",
      "0    9.119813   12.003135    9.650743    8.921326    5.286759         0.0   \n",
      "1    8.381612   12.674552   10.517059    9.397854    2.094168         0.0   \n",
      "2    9.911597    9.045255    9.788359   10.090470    1.683023         0.0   \n",
      "3    9.601208   11.392682    9.694814    9.684365    3.292001         0.0   \n",
      "4    9.846910   11.922439    9.217749    9.461191    5.110372         0.0   \n",
      "\n",
      "   Class  \n",
      "0   PRAD  \n",
      "1   LUAD  \n",
      "2   PRAD  \n",
      "3   PRAD  \n",
      "4   BRCA  \n",
      "\n",
      "[5 rows x 20532 columns]\n"
     ]
    }
   ],
   "source": [
    "# Combining feature data and cleaned labels\n",
    "df = pd.concat([data, cleaned_labs], axis=1)\n",
    "df_cleaned = df.drop(columns=['Unnamed: 0'])\n",
    "print(df_cleaned.head())"
   ]
  },
  {
   "cell_type": "code",
   "execution_count": null,
   "id": "f6874654",
   "metadata": {},
   "outputs": [
    {
     "name": "stdout",
     "output_type": "stream",
     "text": [
      "(801, 267)\n",
      "   gene_5  gene_23  gene_4370  gene_4808  gene_4809  gene_4814  gene_4816  \\\n",
      "0     0.0      0.0        0.0        0.0        0.0        0.0        0.0   \n",
      "1     0.0      0.0        0.0        0.0        0.0        0.0        0.0   \n",
      "2     0.0      0.0        0.0        0.0        0.0        0.0        0.0   \n",
      "3     0.0      0.0        0.0        0.0        0.0        0.0        0.0   \n",
      "4     0.0      0.0        0.0        0.0        0.0        0.0        0.0   \n",
      "\n",
      "   gene_4817  gene_4831  gene_5288  ...  gene_18908  gene_18909  gene_18910  \\\n",
      "0        0.0        0.0        0.0  ...         0.0         0.0         0.0   \n",
      "1        0.0        0.0        0.0  ...         0.0         0.0         0.0   \n",
      "2        0.0        0.0        0.0  ...         0.0         0.0         0.0   \n",
      "3        0.0        0.0        0.0  ...         0.0         0.0         0.0   \n",
      "4        0.0        0.0        0.0  ...         0.0         0.0         0.0   \n",
      "\n",
      "   gene_18911  gene_18914  gene_18915  gene_19450  gene_19451  gene_19452  \\\n",
      "0         0.0         0.0         0.0         0.0         0.0         0.0   \n",
      "1         0.0         0.0         0.0         0.0         0.0         0.0   \n",
      "2         0.0         0.0         0.0         0.0         0.0         0.0   \n",
      "3         0.0         0.0         0.0         0.0         0.0         0.0   \n",
      "4         0.0         0.0         0.0         0.0         0.0         0.0   \n",
      "\n",
      "   gene_19671  \n",
      "0         0.0  \n",
      "1         0.0  \n",
      "2         0.0  \n",
      "3         0.0  \n",
      "4         0.0  \n",
      "\n",
      "[5 rows x 267 columns]\n"
     ]
    }
   ],
   "source": [
    "# Identifying columns with all zeros\n",
    "all_zeros = df_cleaned.loc[:, (df_cleaned == 0).all()]\n",
    "print(all_zeros.shape)\n",
    "print(all_zeros.head())"
   ]
  },
  {
   "cell_type": "code",
   "execution_count": 72,
   "id": "ae45b05f",
   "metadata": {},
   "outputs": [
    {
     "name": "stdout",
     "output_type": "stream",
     "text": [
      "(801, 20265)\n",
      "   gene_0    gene_1    gene_2    gene_3     gene_4    gene_6    gene_7  \\\n",
      "0     0.0  2.017209  3.265527  5.478487  10.431999  7.175175  0.591871   \n",
      "1     0.0  0.592732  1.588421  7.586157   9.623011  6.816049  0.000000   \n",
      "2     0.0  3.511759  4.327199  6.881787   9.870730  6.972130  0.452595   \n",
      "3     0.0  3.663618  4.507649  6.659068  10.196184  7.843375  0.434882   \n",
      "4     0.0  2.655741  2.821547  6.539454   9.738265  6.566967  0.360982   \n",
      "\n",
      "   gene_8  gene_9   gene_10  ...  gene_20522  gene_20523  gene_20524  \\\n",
      "0     0.0     0.0  0.591871  ...    8.210257    9.723516    7.220030   \n",
      "1     0.0     0.0  0.000000  ...    7.323865    9.740931    6.256586   \n",
      "2     0.0     0.0  0.000000  ...    8.127123   10.908640    5.401607   \n",
      "3     0.0     0.0  0.000000  ...    8.792959   10.141520    8.942805   \n",
      "4     0.0     0.0  0.000000  ...    8.891425   10.373790    7.181162   \n",
      "\n",
      "   gene_20525  gene_20526  gene_20527  gene_20528  gene_20529  gene_20530  \\\n",
      "0    9.119813   12.003135    9.650743    8.921326    5.286759         0.0   \n",
      "1    8.381612   12.674552   10.517059    9.397854    2.094168         0.0   \n",
      "2    9.911597    9.045255    9.788359   10.090470    1.683023         0.0   \n",
      "3    9.601208   11.392682    9.694814    9.684365    3.292001         0.0   \n",
      "4    9.846910   11.922439    9.217749    9.461191    5.110372         0.0   \n",
      "\n",
      "   Class  \n",
      "0   PRAD  \n",
      "1   LUAD  \n",
      "2   PRAD  \n",
      "3   PRAD  \n",
      "4   BRCA  \n",
      "\n",
      "[5 rows x 20265 columns]\n"
     ]
    }
   ],
   "source": [
    "# Drop all-zero columns from dataset\n",
    "existing_columns = all_zeros.columns.intersection(df_cleaned.columns)\n",
    "df_final = df_cleaned.drop(columns=existing_columns)\n",
    "print(df_final.shape)\n",
    "print(df_final.head())"
   ]
  },
  {
   "cell_type": "code",
   "execution_count": null,
   "id": "ca168246",
   "metadata": {},
   "outputs": [
    {
     "name": "stdout",
     "output_type": "stream",
     "text": [
      "The total number of NaN values in the dataset is: 0\n"
     ]
    }
   ],
   "source": [
    "# Checking for NaN values in the cleaned dataset\n",
    "nulldata = df_final.isnull().sum()\n",
    "number_nans = nulldata.sum()\n",
    "print(f'The total number of NaN values in the dataset is: {number_nans}')"
   ]
  },
  {
   "cell_type": "markdown",
   "id": "7a2eab2b",
   "metadata": {},
   "source": [
    "## Data Visualization"
   ]
  },
  {
   "cell_type": "code",
   "execution_count": null,
   "id": "b7420d91",
   "metadata": {},
   "outputs": [
    {
     "name": "stdout",
     "output_type": "stream",
     "text": [
      "Class\n",
      "BRCA    300\n",
      "KIRC    146\n",
      "LUAD    141\n",
      "PRAD    136\n",
      "COAD     78\n",
      "Name: count, dtype: int64\n"
     ]
    }
   ],
   "source": [
    "# Checking class distribution\n",
    "print(df_final['Class'].value_counts())"
   ]
  },
  {
   "cell_type": "code",
   "execution_count": null,
   "id": "15db9b33",
   "metadata": {},
   "outputs": [
    {
     "data": {
      "image/png": "[encoded data removed]",
      "text/plain": [
       "<Figure size 640x480 with 1 Axes>"
      ]
     },
     "metadata": {},
     "output_type": "display_data"
    }
   ],
   "source": [
    "# Visualizing class distribution\n",
    "df_final['Class'].value_counts().plot(kind='bar')\n",
    "plt.title('Class Distribution')\n",
    "plt.xlabel('Cancer Types')\n",
    "plt.ylabel('Number of Samples')\n",
    "plt.show()"
   ]
  },
  {
   "cell_type": "markdown",
   "id": "1b0d6162",
   "metadata": {},
   "source": [
    "## Preparing the Data for Machine Learning"
   ]
  },
  {
   "cell_type": "code",
   "execution_count": null,
   "id": "79bcbcad",
   "metadata": {},
   "outputs": [],
   "source": [
    "# Splitting features and labels\n",
    "Y = df_final['Class']\n",
    "X = df_final.drop(columns=['Class'])"
   ]
  },
  {
   "cell_type": "code",
   "execution_count": 77,
   "id": "121b69df",
   "metadata": {},
   "outputs": [
    {
     "data": {
      "text/plain": [
       "0    PRAD\n",
       "1    LUAD\n",
       "2    PRAD\n",
       "3    PRAD\n",
       "4    BRCA\n",
       "Name: Class, dtype: object"
      ]
     },
     "execution_count": 77,
     "metadata": {},
     "output_type": "execute_result"
    }
   ],
   "source": [
    "Y.head()\n"
   ]
  },
  {
   "cell_type": "code",
   "execution_count": 78,
   "id": "5a8bf5cf",
   "metadata": {},
   "outputs": [
    {
     "data": {
      "text/html": [
       "<div>\n",
       "<style scoped>\n",
       "    .dataframe tbody tr th:only-of-type {\n",
       "        vertical-align: middle;\n",
       "    }\n",
       "\n",
       "    .dataframe tbody tr th {\n",
       "        vertical-align: top;\n",
       "    }\n",
       "\n",
       "    .dataframe thead th {\n",
       "        text-align: right;\n",
       "    }\n",
       "</style>\n",
       "<table border=\"1\" class=\"dataframe\">\n",
       "  <thead>\n",
       "    <tr style=\"text-align: right;\">\n",
       "      <th></th>\n",
       "      <th>gene_0</th>\n",
       "      <th>gene_1</th>\n",
       "      <th>gene_2</th>\n",
       "      <th>gene_3</th>\n",
       "      <th>gene_4</th>\n",
       "      <th>gene_6</th>\n",
       "      <th>gene_7</th>\n",
       "      <th>gene_8</th>\n",
       "      <th>gene_9</th>\n",
       "      <th>gene_10</th>\n",
       "      <th>...</th>\n",
       "      <th>gene_20521</th>\n",
       "      <th>gene_20522</th>\n",
       "      <th>gene_20523</th>\n",
       "      <th>gene_20524</th>\n",
       "      <th>gene_20525</th>\n",
       "      <th>gene_20526</th>\n",
       "      <th>gene_20527</th>\n",
       "      <th>gene_20528</th>\n",
       "      <th>gene_20529</th>\n",
       "      <th>gene_20530</th>\n",
       "    </tr>\n",
       "  </thead>\n",
       "  <tbody>\n",
       "    <tr>\n",
       "      <th>0</th>\n",
       "      <td>0.0</td>\n",
       "      <td>2.017209</td>\n",
       "      <td>3.265527</td>\n",
       "      <td>5.478487</td>\n",
       "      <td>10.431999</td>\n",
       "      <td>7.175175</td>\n",
       "      <td>0.591871</td>\n",
       "      <td>0.0</td>\n",
       "      <td>0.0</td>\n",
       "      <td>0.591871</td>\n",
       "      <td>...</td>\n",
       "      <td>4.926711</td>\n",
       "      <td>8.210257</td>\n",
       "      <td>9.723516</td>\n",
       "      <td>7.220030</td>\n",
       "      <td>9.119813</td>\n",
       "      <td>12.003135</td>\n",
       "      <td>9.650743</td>\n",
       "      <td>8.921326</td>\n",
       "      <td>5.286759</td>\n",
       "      <td>0.0</td>\n",
       "    </tr>\n",
       "    <tr>\n",
       "      <th>1</th>\n",
       "      <td>0.0</td>\n",
       "      <td>0.592732</td>\n",
       "      <td>1.588421</td>\n",
       "      <td>7.586157</td>\n",
       "      <td>9.623011</td>\n",
       "      <td>6.816049</td>\n",
       "      <td>0.000000</td>\n",
       "      <td>0.0</td>\n",
       "      <td>0.0</td>\n",
       "      <td>0.000000</td>\n",
       "      <td>...</td>\n",
       "      <td>4.593372</td>\n",
       "      <td>7.323865</td>\n",
       "      <td>9.740931</td>\n",
       "      <td>6.256586</td>\n",
       "      <td>8.381612</td>\n",
       "      <td>12.674552</td>\n",
       "      <td>10.517059</td>\n",
       "      <td>9.397854</td>\n",
       "      <td>2.094168</td>\n",
       "      <td>0.0</td>\n",
       "    </tr>\n",
       "    <tr>\n",
       "      <th>2</th>\n",
       "      <td>0.0</td>\n",
       "      <td>3.511759</td>\n",
       "      <td>4.327199</td>\n",
       "      <td>6.881787</td>\n",
       "      <td>9.870730</td>\n",
       "      <td>6.972130</td>\n",
       "      <td>0.452595</td>\n",
       "      <td>0.0</td>\n",
       "      <td>0.0</td>\n",
       "      <td>0.000000</td>\n",
       "      <td>...</td>\n",
       "      <td>5.125213</td>\n",
       "      <td>8.127123</td>\n",
       "      <td>10.908640</td>\n",
       "      <td>5.401607</td>\n",
       "      <td>9.911597</td>\n",
       "      <td>9.045255</td>\n",
       "      <td>9.788359</td>\n",
       "      <td>10.090470</td>\n",
       "      <td>1.683023</td>\n",
       "      <td>0.0</td>\n",
       "    </tr>\n",
       "    <tr>\n",
       "      <th>3</th>\n",
       "      <td>0.0</td>\n",
       "      <td>3.663618</td>\n",
       "      <td>4.507649</td>\n",
       "      <td>6.659068</td>\n",
       "      <td>10.196184</td>\n",
       "      <td>7.843375</td>\n",
       "      <td>0.434882</td>\n",
       "      <td>0.0</td>\n",
       "      <td>0.0</td>\n",
       "      <td>0.000000</td>\n",
       "      <td>...</td>\n",
       "      <td>6.076566</td>\n",
       "      <td>8.792959</td>\n",
       "      <td>10.141520</td>\n",
       "      <td>8.942805</td>\n",
       "      <td>9.601208</td>\n",
       "      <td>11.392682</td>\n",
       "      <td>9.694814</td>\n",
       "      <td>9.684365</td>\n",
       "      <td>3.292001</td>\n",
       "      <td>0.0</td>\n",
       "    </tr>\n",
       "    <tr>\n",
       "      <th>4</th>\n",
       "      <td>0.0</td>\n",
       "      <td>2.655741</td>\n",
       "      <td>2.821547</td>\n",
       "      <td>6.539454</td>\n",
       "      <td>9.738265</td>\n",
       "      <td>6.566967</td>\n",
       "      <td>0.360982</td>\n",
       "      <td>0.0</td>\n",
       "      <td>0.0</td>\n",
       "      <td>0.000000</td>\n",
       "      <td>...</td>\n",
       "      <td>5.996032</td>\n",
       "      <td>8.891425</td>\n",
       "      <td>10.373790</td>\n",
       "      <td>7.181162</td>\n",
       "      <td>9.846910</td>\n",
       "      <td>11.922439</td>\n",
       "      <td>9.217749</td>\n",
       "      <td>9.461191</td>\n",
       "      <td>5.110372</td>\n",
       "      <td>0.0</td>\n",
       "    </tr>\n",
       "  </tbody>\n",
       "</table>\n",
       "<p>5 rows × 20264 columns</p>\n",
       "</div>"
      ],
      "text/plain": [
       "   gene_0    gene_1    gene_2    gene_3     gene_4    gene_6    gene_7  \\\n",
       "0     0.0  2.017209  3.265527  5.478487  10.431999  7.175175  0.591871   \n",
       "1     0.0  0.592732  1.588421  7.586157   9.623011  6.816049  0.000000   \n",
       "2     0.0  3.511759  4.327199  6.881787   9.870730  6.972130  0.452595   \n",
       "3     0.0  3.663618  4.507649  6.659068  10.196184  7.843375  0.434882   \n",
       "4     0.0  2.655741  2.821547  6.539454   9.738265  6.566967  0.360982   \n",
       "\n",
       "   gene_8  gene_9   gene_10  ...  gene_20521  gene_20522  gene_20523  \\\n",
       "0     0.0     0.0  0.591871  ...    4.926711    8.210257    9.723516   \n",
       "1     0.0     0.0  0.000000  ...    4.593372    7.323865    9.740931   \n",
       "2     0.0     0.0  0.000000  ...    5.125213    8.127123   10.908640   \n",
       "3     0.0     0.0  0.000000  ...    6.076566    8.792959   10.141520   \n",
       "4     0.0     0.0  0.000000  ...    5.996032    8.891425   10.373790   \n",
       "\n",
       "   gene_20524  gene_20525  gene_20526  gene_20527  gene_20528  gene_20529  \\\n",
       "0    7.220030    9.119813   12.003135    9.650743    8.921326    5.286759   \n",
       "1    6.256586    8.381612   12.674552   10.517059    9.397854    2.094168   \n",
       "2    5.401607    9.911597    9.045255    9.788359   10.090470    1.683023   \n",
       "3    8.942805    9.601208   11.392682    9.694814    9.684365    3.292001   \n",
       "4    7.181162    9.846910   11.922439    9.217749    9.461191    5.110372   \n",
       "\n",
       "   gene_20530  \n",
       "0         0.0  \n",
       "1         0.0  \n",
       "2         0.0  \n",
       "3         0.0  \n",
       "4         0.0  \n",
       "\n",
       "[5 rows x 20264 columns]"
      ]
     },
     "execution_count": 78,
     "metadata": {},
     "output_type": "execute_result"
    }
   ],
   "source": [
    "X.head()"
   ]
  },
  {
   "cell_type": "code",
   "execution_count": null,
   "id": "cac76842",
   "metadata": {},
   "outputs": [],
   "source": [
    "# Encoding labels\n",
    "label_encoder = LabelEncoder()\n",
    "label_encoder.fit(Y)\n",
    "Y_encoded = label_encoder.transform(Y)\n",
    "label = label_encoder.classes_\n",
    "classes = np.unique(Y_encoded)"
   ]
  },
  {
   "cell_type": "code",
   "execution_count": 80,
   "id": "72d4f2cb",
   "metadata": {},
   "outputs": [
    {
     "data": {
      "text/plain": [
       "array(['BRCA', 'COAD', 'KIRC', 'LUAD', 'PRAD'], dtype=object)"
      ]
     },
     "execution_count": 80,
     "metadata": {},
     "output_type": "execute_result"
    }
   ],
   "source": [
    "label"
   ]
  },
  {
   "cell_type": "code",
   "execution_count": 81,
   "id": "79d39277",
   "metadata": {},
   "outputs": [
    {
     "data": {
      "text/plain": [
       "array([0, 1, 2, 3, 4])"
      ]
     },
     "execution_count": 81,
     "metadata": {},
     "output_type": "execute_result"
    }
   ],
   "source": [
    "classes"
   ]
  },
  {
   "cell_type": "code",
   "execution_count": null,
   "id": "98126ad6",
   "metadata": {},
   "outputs": [],
   "source": [
    "# Splitting data into training and testing sets\n",
    "X_train, X_test, Y_train, Y_test = train_test_split(X, Y_encoded, test_size=0.2, random_state=42)   "
   ]
  },
  {
   "cell_type": "code",
   "execution_count": null,
   "id": "bb670bd0",
   "metadata": {},
   "outputs": [],
   "source": [
    "# Feature Scaling using Min-Max Scaler\n",
    "min_max_scaler = MinMaxScaler()\n",
    "X_train_scaled = min_max_scaler.fit_transform(X_train)\n",
    "X_test_scaled = min_max_scaler.transform(X_test)"
   ]
  },
  {
   "cell_type": "code",
   "execution_count": null,
   "id": "69797d4b",
   "metadata": {},
   "outputs": [],
   "source": [
    "# Feature Selection using Mutual Information\n",
    "MI= mutual_info_classif(X_train_scaled, Y_train)\n",
    "\n",
    "n_features = 300\n",
    "selected_scores = np.argsort(MI)[::-1][0:n_features]\n",
    "\n",
    "X_train_selected = X_train_scaled[:, selected_scores]\n",
    "X_test_selected = X_test_scaled[:, selected_scores]"
   ]
  },
  {
   "cell_type": "code",
   "execution_count": 85,
   "id": "7d939a14",
   "metadata": {},
   "outputs": [
    {
     "data": {
      "text/plain": [
       "(640, 300)"
      ]
     },
     "execution_count": 85,
     "metadata": {},
     "output_type": "execute_result"
    }
   ],
   "source": [
    "X_train_selected.shape"
   ]
  },
  {
   "cell_type": "code",
   "execution_count": 86,
   "id": "c5a7fc94",
   "metadata": {},
   "outputs": [
    {
     "data": {
      "text/plain": [
       "(161, 300)"
      ]
     },
     "execution_count": 86,
     "metadata": {},
     "output_type": "execute_result"
    }
   ],
   "source": [
    "X_test_selected.shape"
   ]
  },
  {
   "cell_type": "markdown",
   "id": "62564c3b",
   "metadata": {},
   "source": [
    "## Building and Training the Model"
   ]
  },
  {
   "cell_type": "code",
   "execution_count": null,
   "id": "c4813d8c",
   "metadata": {},
   "outputs": [],
   "source": [
    "# Building a one-vs-rest Random Forest Classifier\n",
    "RF = OneVsRestClassifier(RandomForestClassifier(max_features=0.2, random_state=42))\n",
    "RF.fit(X_train_selected, Y_train)\n",
    "Y_pred = RF.predict(X_test_selected)\n",
    "Y_prob = RF.predict_proba(X_test_selected)"
   ]
  },
  {
   "cell_type": "markdown",
   "id": "5c6a7019",
   "metadata": {},
   "source": [
    "## Model Evaulation"
   ]
  },
  {
   "cell_type": "code",
   "execution_count": 88,
   "id": "a707d136",
   "metadata": {},
   "outputs": [
    {
     "name": "stdout",
     "output_type": "stream",
     "text": [
      "Accuracy:1.0000\n",
      "Precision:1.0000\n",
      "Recall:1.0000\n",
      "F1 Score:1.0000\n",
      "\n",
      "\n",
      "Classification Report:\n",
      "\n",
      "\n",
      "              precision    recall  f1-score   support\n",
      "\n",
      "        BRCA       1.00      1.00      1.00        61\n",
      "        COAD       1.00      1.00      1.00        17\n",
      "        KIRC       1.00      1.00      1.00        25\n",
      "        LUAD       1.00      1.00      1.00        29\n",
      "        PRAD       1.00      1.00      1.00        29\n",
      "\n",
      "    accuracy                           1.00       161\n",
      "   macro avg       1.00      1.00      1.00       161\n",
      "weighted avg       1.00      1.00      1.00       161\n",
      "\n"
     ]
    }
   ],
   "source": [
    "# accuracy\n",
    "accuracy = np.round(balanced_accuracy_score(Y_test, Y_pred), 4)\n",
    "print(f'Accuracy:%0.4f' %accuracy)\n",
    "\n",
    "# precision\n",
    "precision = np.round(precision_score(Y_test, Y_pred, average='weighted'), 4)\n",
    "print(f'Precision:%0.4f' %precision)\n",
    "\n",
    "# recall\n",
    "recall = np.round(recall_score(Y_test, Y_pred, average='weighted'), 4)\n",
    "print(f'Recall:%0.4f' %recall)\n",
    "\n",
    "# F1 Score\n",
    "f1 = np.round(f1_score(Y_test, Y_pred, average='weighted'), 4)\n",
    "print(f'F1 Score:%0.4f' %f1)    \n",
    "\n",
    "# Classification Report\n",
    "report = classification_report(Y_test, Y_pred, target_names=label)\n",
    "print('\\n')\n",
    "print('Classification Report:\\n\\n')\n",
    "print(report)"
   ]
  },
  {
   "cell_type": "code",
   "execution_count": 89,
   "id": "a027c1cf",
   "metadata": {},
   "outputs": [
    {
     "data": {
      "text/html": [
       "<div>\n",
       "<style scoped>\n",
       "    .dataframe tbody tr th:only-of-type {\n",
       "        vertical-align: middle;\n",
       "    }\n",
       "\n",
       "    .dataframe tbody tr th {\n",
       "        vertical-align: top;\n",
       "    }\n",
       "\n",
       "    .dataframe thead th {\n",
       "        text-align: right;\n",
       "    }\n",
       "</style>\n",
       "<table border=\"1\" class=\"dataframe\">\n",
       "  <thead>\n",
       "    <tr style=\"text-align: right;\">\n",
       "      <th></th>\n",
       "      <th>BRCA</th>\n",
       "      <th>COAD</th>\n",
       "      <th>KIRC</th>\n",
       "      <th>LUAD</th>\n",
       "      <th>PRAD</th>\n",
       "    </tr>\n",
       "  </thead>\n",
       "  <tbody>\n",
       "    <tr>\n",
       "      <th>BRCA</th>\n",
       "      <td>61</td>\n",
       "      <td>0</td>\n",
       "      <td>0</td>\n",
       "      <td>0</td>\n",
       "      <td>0</td>\n",
       "    </tr>\n",
       "    <tr>\n",
       "      <th>COAD</th>\n",
       "      <td>0</td>\n",
       "      <td>17</td>\n",
       "      <td>0</td>\n",
       "      <td>0</td>\n",
       "      <td>0</td>\n",
       "    </tr>\n",
       "    <tr>\n",
       "      <th>KIRC</th>\n",
       "      <td>0</td>\n",
       "      <td>0</td>\n",
       "      <td>25</td>\n",
       "      <td>0</td>\n",
       "      <td>0</td>\n",
       "    </tr>\n",
       "    <tr>\n",
       "      <th>LUAD</th>\n",
       "      <td>0</td>\n",
       "      <td>0</td>\n",
       "      <td>0</td>\n",
       "      <td>29</td>\n",
       "      <td>0</td>\n",
       "    </tr>\n",
       "    <tr>\n",
       "      <th>PRAD</th>\n",
       "      <td>0</td>\n",
       "      <td>0</td>\n",
       "      <td>0</td>\n",
       "      <td>0</td>\n",
       "      <td>29</td>\n",
       "    </tr>\n",
       "  </tbody>\n",
       "</table>\n",
       "</div>"
      ],
      "text/plain": [
       "      BRCA  COAD  KIRC  LUAD  PRAD\n",
       "BRCA    61     0     0     0     0\n",
       "COAD     0    17     0     0     0\n",
       "KIRC     0     0    25     0     0\n",
       "LUAD     0     0     0    29     0\n",
       "PRAD     0     0     0     0    29"
      ]
     },
     "execution_count": 89,
     "metadata": {},
     "output_type": "execute_result"
    }
   ],
   "source": [
    "# generate confusion matrix\n",
    "cm = confusion_matrix(Y_test, Y_pred)\n",
    "cm_df = pd.DataFrame(cm, index=label, columns=label)\n",
    "cm_df"
   ]
  },
  {
   "cell_type": "code",
   "execution_count": 90,
   "id": "e0c6981f",
   "metadata": {},
   "outputs": [
    {
     "data": {
      "image/png": "[encoded data removed]",
      "text/plain": [
       "<Figure size 640x480 with 2 Axes>"
      ]
     },
     "metadata": {},
     "output_type": "display_data"
    }
   ],
   "source": [
    "# visualize confusion matrix\n",
    "sns.heatmap(cm_df, annot=True, fmt='d', cmap='Blues')\n",
    "plt.title('Confusion Matrix')\n",
    "plt.ylabel('Actual Label')\n",
    "plt.xlabel('Predicted Label')\n",
    "plt.show()"
   ]
  },
  {
   "cell_type": "code",
   "execution_count": 91,
   "id": "203bed65",
   "metadata": {},
   "outputs": [
    {
     "data": {
      "image/png": "[encoded data removed]",
      "text/plain": [
       "<Figure size 640x480 with 1 Axes>"
      ]
     },
     "metadata": {},
     "output_type": "display_data"
    }
   ],
   "source": [
    "# ROC-AUC for multi-class\n",
    "Y_test_binarized = label_binarize(Y_test, classes=classes)\n",
    "\n",
    "# roc curve for each class\n",
    "fpr = dict()\n",
    "tpr = dict()\n",
    "thresholds = dict()\n",
    "roc_auc = dict()\n",
    "\n",
    "n_classes = classes.shape[0]\n",
    "for i in range(n_classes):\n",
    "    fpr[i], tpr[i], thresholds[i] = roc_curve(Y_test_binarized[:, i], Y_prob[:, i])\n",
    "    roc_auc[i] = auc(fpr[i], tpr[i])\n",
    "    \n",
    "    # plot ROC curve\n",
    "    plt.plot(fpr[i], tpr[i], label='ROC curve of class {0} (area = {1:0.2f})'\n",
    "                                   ''.format(label[i], roc_auc[i]))\n",
    "    \n",
    "plt.plot([0, 1], [0, 1], 'k--')  # diagonal line\n",
    "plt.xlim([0.0, 1.0])\n",
    "plt.ylim([0.0, 1.05])\n",
    "plt.xlabel('False Positive Rate')\n",
    "plt.ylabel('True Positive Rate')\n",
    "plt.title('Receiver Operating Characteristic (ROC) Curves')\n",
    "plt.legend(loc=\"lower right\")\n",
    "plt.show()"
   ]
  }
 ],
 "metadata": {
  "kernelspec": {
   "display_name": "base",
   "language": "python",
   "name": "python3"
  },
  "language_info": {
   "codemirror_mode": {
    "name": "ipython",
    "version": 3
   },
   "file_extension": ".py",
   "mimetype": "text/x-python",
   "name": "python",
   "nbconvert_exporter": "python",
   "pygments_lexer": "ipython3",
   "version": "3.12.2"
  }
 },
 "nbformat": 4,
 "nbformat_minor": 5
}
